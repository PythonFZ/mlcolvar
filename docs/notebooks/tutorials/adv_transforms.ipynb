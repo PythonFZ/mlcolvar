{
 "cells": [
  {
   "cell_type": "markdown",
   "metadata": {},
   "source": [
    "# Transform module of `mlcolvar`\n",
    " \n",
    "[![Open in Colab](https://colab.research.google.com/assets/colab-badge.svg)](https://colab.research.google.com/github/luigibonati/mlcolvar/blob/main/docs/notebooks/tutorials/adv_transforms.ipynb)"
   ]
  },
  {
   "cell_type": "markdown",
   "metadata": {},
   "source": [
    "In this noteboook, we will provide an overview of the `transform` module of the library.\n",
    "This includes non-trainable modules based on a parent `transform` class and divided into two groups:\n",
    "- `descriptors`: physical descriptors that can be computed from **atomic positions**, including, for example:\n",
    "    - `PairwiseDistances`\n",
    "    - `TorsionalAngle`\n",
    "    - `CoordinationNumbers`\n",
    "     \n",
    "    Multiple descriptors can also be combined using the `MultipleDescriptors` class.\n",
    "- `tools`: processing tools and utilities, including, for example:\n",
    "    - `Normalization`\n",
    "    - `SwitchingFunctions`\n",
    "    - `ContinuousHistogram`"
   ]
  },
  {
   "cell_type": "markdown",
   "metadata": {},
   "source": [
    "## Setup"
   ]
  },
  {
   "cell_type": "code",
   "execution_count": 18,
   "metadata": {},
   "outputs": [],
   "source": [
    "import torch\n",
    "import numpy as np\n",
    "import matplotlib.pyplot as plt\n",
    "\n",
    "from mlcolvar.utils.io import load_dataframe"
   ]
  },
  {
   "cell_type": "markdown",
   "metadata": {},
   "source": [
    "## Computing descriptors with `mlcolvar`\n"
   ]
  },
  {
   "cell_type": "markdown",
   "metadata": {},
   "source": [
    "All the descriptors classes share some general features:\n",
    "\n",
    "**Positions as input**\n",
    "\n",
    "Descriptors in `mlcolvar` take atomic positions as inputs. These can be also returned by `PLUMED` using the `POSITION` keyword for a simpler loading through colvar files.\n",
    "The positions can be used both as absolute coordinates (default) or as coordinates scaled on the cell's vectors. In this case, the `scaled_coords` key should be set to `True`. \n",
    "\n",
    "**Cell and PBC**\n",
    "\n",
    "Currently, PBC are implemented **only for orthorombic simulation cells**. By default, PBC are enabled, and the cell's dimensions have to be provided through the `cell` keyword \n",
    "\n",
    "**Combining descriptors**\n",
    "\n",
    "Multiple descriptors computed on the same set of positions (eventually of a diffent type) can be combined into a single transform object using `MultipleDescriptors`. For example, we can combine some torsional angles with some distances.\n",
    "\n",
    "Here we use alanine dipeptide as an example and we will first show how to compute the single decriptors and then how they can be combined."
   ]
  },
  {
   "cell_type": "code",
   "execution_count": 9,
   "metadata": {},
   "outputs": [],
   "source": [
    "# number of atoms\n",
    "n_atoms=10\n",
    "\n",
    "# simulation cell \n",
    "cell = torch.Tensor([3.0233, 3.0233, 3.0233])\n",
    "\n",
    " \n",
    "filenames = ['https://raw.githubusercontent.com/EnricoTrizio/committor_2.0/refs/heads/main/alanine/unbiased_sims/COLVAR_A',\n",
    "             'https://raw.githubusercontent.com/EnricoTrizio/committor_2.0/refs/heads/main/alanine/unbiased_sims/COLVAR_B',\n",
    "            ]           \n",
    "\n",
    "# load data\n",
    "dataframe = load_dataframe(file_names = filenames,\n",
    "                            create_labels = True,\n",
    "                            return_dataframe = True,\n",
    "                            start=0,\n",
    "                            stop=10000,\n",
    "                            stride=10,\n",
    "                            verbose = True)\n",
    "\n",
    "# we put the positions into a tensor\n",
    "positions = torch.Tensor(dataframe.filter(regex='p[1-9]\\.[abc]|p[1-2][0-9]\\.[abc]').values) "
   ]
  },
  {
   "cell_type": "markdown",
   "metadata": {},
   "source": [
    "### TorsionalAngle\n",
    "Torsional angles can be computed using the `TorsionalAngle` class, which can return the sin, cos and angle value based on the `mode` key.\n",
    "\n",
    "Here we compute the sin and cos of the usual $\\phi$ and $\\psi$ angles of alanine."
   ]
  },
  {
   "cell_type": "code",
   "execution_count": 24,
   "metadata": {},
   "outputs": [
    {
     "name": "stdout",
     "output_type": "stream",
     "text": [
      "tensor([[-0.9504,  0.3109],\n",
      "        [-0.8630, -0.5053],\n",
      "        [-0.6093, -0.7930],\n",
      "        ...,\n",
      "        [ 0.9113,  0.4117],\n",
      "        [ 0.8524,  0.5229],\n",
      "        [ 0.9078,  0.4193]])\n",
      "tensor([[ 0.8578,  0.5139],\n",
      "        [ 0.7669, -0.6418],\n",
      "        [ 0.4745, -0.8802],\n",
      "        ...,\n",
      "        [-0.9649,  0.2626],\n",
      "        [-0.7497,  0.6617],\n",
      "        [-0.8931,  0.4499]])\n"
     ]
    }
   ],
   "source": [
    "from mlcolvar.core.transform.descriptors import TorsionalAngle\n",
    "\n",
    "# initialize objects to compute angles\n",
    "# this computes the sin and cos of Phi, to return also the angle add 'angle' to the mode list.\n",
    "ComputePhi = TorsionalAngle(indices=[1,3,4,6],\n",
    "                                n_atoms=10,\n",
    "                                mode=['sin', 'cos'],\n",
    "                                PBC=True, \n",
    "                                cell=cell, \n",
    "                                scaled_coords=True)\n",
    "\n",
    "# this computes the sin and cos of Psi to return also the angle add 'angle' to the mode list.\n",
    "ComputePsi = TorsionalAngle(indices=[3,4,6,8],\n",
    "                                n_atoms=10,\n",
    "                                mode=['sin', 'cos'], \n",
    "                                PBC=True, \n",
    "                                cell=cell, \n",
    "                                scaled_coords=True)\n",
    "\n",
    "# we apply it on the input positions\n",
    "out_phi = ComputePhi(positions)\n",
    "out_psi = ComputePsi(positions)\n",
    "\n",
    "print(out_phi)\n",
    "print(out_psi)\n"
   ]
  },
  {
   "cell_type": "markdown",
   "metadata": {},
   "source": [
    "### PairwiseDistances\n",
    "Pairwise distances can be computed using the `PairwiseDistances` class, which, by default, computes all the non-duplicated distances between the given atoms. Otherwise, if we are interested in some specific distances only we can choose the corresponing atomic paris using the `slicing_pairs` keyword.   "
   ]
  },
  {
   "cell_type": "code",
   "execution_count": 26,
   "metadata": {},
   "outputs": [
    {
     "name": "stdout",
     "output_type": "stream",
     "text": [
      "tensor([[0.1470, 0.2249, 0.2458,  ..., 0.2255, 0.2912, 0.1449],\n",
      "        [0.1495, 0.2357, 0.2353,  ..., 0.2310, 0.2928, 0.1466],\n",
      "        [0.1525, 0.2382, 0.2394,  ..., 0.2319, 0.2872, 0.1449],\n",
      "        ...,\n",
      "        [0.1502, 0.2333, 0.2414,  ..., 0.2262, 0.2708, 0.1519],\n",
      "        [0.1496, 0.2349, 0.2414,  ..., 0.2146, 0.2687, 0.1431],\n",
      "        [0.1520, 0.2387, 0.2476,  ..., 0.2235, 0.2910, 0.1480]])\n"
     ]
    }
   ],
   "source": [
    "from mlcolvar.core.transform.descriptors import PairwiseDistances\n",
    "\n",
    "# initialize object to compute distances\n",
    "ComputeDistances = PairwiseDistances(n_atoms=10, \n",
    "                                     PBC=True, \n",
    "                                     cell=cell, \n",
    "                                     scaled_coords=True)\n",
    "\n",
    "# we apply it to the positions\n",
    "out_dist = ComputeDistances(positions)\n",
    "\n",
    "print(out_dist)"
   ]
  },
  {
   "cell_type": "markdown",
   "metadata": {},
   "source": [
    "## Combining descriptors with `mlcolvar`\n"
   ]
  },
  {
   "cell_type": "markdown",
   "metadata": {},
   "source": [
    "Multiple and different descriptors acting on the same positions can be combine using the `MultipleDescriptors` class, which takes a list of descriptor objects and combines them into a single model."
   ]
  },
  {
   "cell_type": "code",
   "execution_count": 31,
   "metadata": {},
   "outputs": [
    {
     "name": "stdout",
     "output_type": "stream",
     "text": [
      "tensor([[-0.9504,  0.3109,  0.8578,  ...,  0.2255,  0.2912,  0.1449],\n",
      "        [-0.8630, -0.5053,  0.7669,  ...,  0.2310,  0.2928,  0.1466],\n",
      "        [-0.6093, -0.7930,  0.4745,  ...,  0.2319,  0.2872,  0.1449],\n",
      "        ...,\n",
      "        [ 0.9113,  0.4117, -0.9649,  ...,  0.2262,  0.2708,  0.1519],\n",
      "        [ 0.8524,  0.5229, -0.7497,  ...,  0.2146,  0.2687,  0.1431],\n",
      "        [ 0.9078,  0.4193, -0.8931,  ...,  0.2235,  0.2910,  0.1480]])\n"
     ]
    }
   ],
   "source": [
    "from mlcolvar.core.transform.descriptors import MultipleDescriptors\n",
    "\n",
    "# we combine the descriptors\n",
    "ComputeDescriptors = MultipleDescriptors(descriptors_list=[ComputePhi, ComputePsi, ComputeDistances], \n",
    "                                         n_atoms=n_atoms)\n",
    "\n",
    "# we applied the combined model to the input positions\n",
    "out_combined = ComputeDescriptors(positions)\n",
    "\n",
    "print(out_combined)\n"
   ]
  },
  {
   "cell_type": "markdown",
   "metadata": {},
   "source": [
    "## Processing tools in `mlcolvar`"
   ]
  },
  {
   "cell_type": "markdown",
   "metadata": {},
   "source": [
    "The transform objects in `tools` are used for general processing of data.\n",
    "Here we'll see two examples:\n",
    "- `SwitchingFunctions`, which can be used, for example, to define contacts from distances\n",
    "- `ContinuousHistograms`, which can be used, for example, to build differentiable CVs related to the distribution of some input. \n",
    " "
   ]
  },
  {
   "cell_type": "markdown",
   "metadata": {},
   "source": [
    "### SwitchingFunctions\n",
    "Switching functions can be used to *switch* some input above and below a threshold and are avaialble using the `SwitchingFunction` class.\n",
    "\n",
    "For example, we can use this to turn our distances into contacts, which may be more suitable to describe the on/off nature of chemical reactions."
   ]
  },
  {
   "cell_type": "code",
   "execution_count": 46,
   "metadata": {},
   "outputs": [
    {
     "name": "stdout",
     "output_type": "stream",
     "text": [
      "tensor([[0.9864, 0.8492, 0.7679,  ..., 0.8472, 0.5448, 0.9874],\n",
      "        [0.9849, 0.8097, 0.8110,  ..., 0.8277, 0.5362, 0.9866],\n",
      "        [0.9831, 0.7996, 0.7949,  ..., 0.8243, 0.5652, 0.9875],\n",
      "        ...,\n",
      "        [0.9845, 0.8189, 0.7863,  ..., 0.8447, 0.6491, 0.9835],\n",
      "        [0.9848, 0.8127, 0.7866,  ..., 0.8818, 0.6596, 0.9883],\n",
      "        [0.9834, 0.7978, 0.7600,  ..., 0.8541, 0.5453, 0.9858]])\n"
     ]
    }
   ],
   "source": [
    "from mlcolvar.core.transform.tools import SwitchingFunctions\n",
    "\n",
    "# initialize object to compute switching function\n",
    "ComputeSwitch = SwitchingFunctions(in_features=45,\n",
    "                            name='Rational',\n",
    "                            cutoff=0.3,\n",
    "                            options={'n': 6, 'm': 12})\n",
    "\n",
    "# we apply to the distances\n",
    "out_contacts = ComputeSwitch(out_dist)\n",
    "\n",
    "print(out_contacts)"
   ]
  },
  {
   "cell_type": "markdown",
   "metadata": {},
   "source": [
    "### ContinuousHistogram\n",
    "\n",
    "Continuous histograms can be computed using the `ContinuousHistogram` class, which allows constructing differentiable histograms using Gaussian kernels returning the values of the bins.\n",
    "\n",
    "We can test this on the distances and contacts in our system"
   ]
  },
  {
   "cell_type": "code",
   "execution_count": 51,
   "metadata": {},
   "outputs": [
    {
     "data": {
      "image/png": "[encoded data removed]",
      "text/plain": [
       "<Figure size 500x400 with 1 Axes>"
      ]
     },
     "metadata": {},
     "output_type": "display_data"
    }
   ],
   "source": [
    "from mlcolvar.core.transform.tools import ContinuousHistogram\n",
    "\n",
    "# we initialize the object for the histogram computation \n",
    "ComputeHistogram = ContinuousHistogram(in_features=45,\n",
    "                                       min=0,\n",
    "                                       max=1, \n",
    "                                       bins=100)\n",
    "\n",
    "# we apply it to the distances\n",
    "out_hist_dist = ComputeHistogram(out_dist)\n",
    "# we apply it to the contacts\n",
    "out_hist_contacts = ComputeHistogram(out_contacts)\n",
    "\n",
    "# we compare the two distributions\n",
    "plt.figure(figsize=(5,4))\n",
    "plt.fill_between(np.linspace(0, 1, 100), 0, out_hist_dist.mean(axis=0), alpha=0.8)\n",
    "plt.fill_between(np.linspace(0, 1, 100), 0, out_hist_contacts.mean(axis=0), alpha=0.8)\n",
    "plt.show()"
   ]
  },
  {
   "cell_type": "markdown",
   "metadata": {},
   "source": [
    "## Sequentially apply transforms in `mlcolvar` \n",
    "To apply sequentially different transforms we can simply use a `torch.nn.Sequential` class."
   ]
  },
  {
   "cell_type": "code",
   "execution_count": 54,
   "metadata": {},
   "outputs": [
    {
     "data": {
      "image/png": "[encoded data removed]",
      "text/plain": [
       "<Figure size 500x400 with 1 Axes>"
      ]
     },
     "metadata": {},
     "output_type": "display_data"
    }
   ],
   "source": [
    "ComputeContactsHist = torch.nn.Sequential(ComputeDistances, ComputeSwitch, ComputeHistogram)\n",
    "\n",
    "# we initialize the object for the computation positions -> distances -> contacts -> histogram\n",
    "out_sequential = ComputeContactsHist(positions)\n",
    "\n",
    "# we compare the two distributions\n",
    "plt.figure(figsize=(5,4))\n",
    "plt.fill_between(np.linspace(0, 1, 100), 0, out_sequential.mean(axis=0), alpha=0.8)\n",
    "plt.fill_between(np.linspace(0, 1, 100), 0, out_hist_contacts.mean(axis=0), alpha=0.8)\n",
    "plt.show()\n"
   ]
  }
 ],
 "metadata": {
  "kernelspec": {
   "display_name": "mlcolvar_dev",
   "language": "python",
   "name": "python3"
  },
  "language_info": {
   "codemirror_mode": {
    "name": "ipython",
    "version": 3
   },
   "file_extension": ".py",
   "mimetype": "text/x-python",
   "name": "python",
   "nbconvert_exporter": "python",
   "pygments_lexer": "ipython3",
   "version": "3.10.14"
  }
 },
 "nbformat": 4,
 "nbformat_minor": 2
}
