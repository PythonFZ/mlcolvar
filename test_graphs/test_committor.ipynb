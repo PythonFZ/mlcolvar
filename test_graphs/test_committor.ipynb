{
 "cells": [
  {
   "cell_type": "code",
   "execution_count": null,
   "metadata": {},
   "outputs": [
    {
     "name": "stdout",
     "output_type": "stream",
     "text": [
      "DictModule(dataset -> DictDataset( \"data_list\": 1700, \"z_table\": [6, 9], \"cutoff\": 8.0, \"data_type\": graphs ),\n",
      "\t\t     train_loader -> DictLoader(length=1, batch_size=1700, shuffle=False))\n"
     ]
    }
   ],
   "source": [
    "from mlcolvar.data import DictModule\n",
    "from mlcolvar.utils.io import create_dataset_from_trajectories\n",
    "from mlcolvar.utils.io import create_dataset_from_files\n",
    "\n",
    "\n",
    "dataset_graph = create_dataset_from_trajectories(\n",
    "    trajectories=[\n",
    "        'data/r.dcd',\n",
    "        'data/p.dcd',\n",
    "        # 'data/biased.trajectory.h5',\n",
    "        'data/biased.dcd',\n",
    "        #'data/biased.trajectory.h5',\n",
    "        #'data/r.dcd'\n",
    "    ],\n",
    "    top=['data/r.pdb', \n",
    "         'data/p.pdb',\n",
    "         'data/r.pdb',\n",
    "         #'data/r.pdb'\n",
    "         ],\n",
    "    cutoff=8.0,  # Ang\n",
    "    create_labels=True,\n",
    "    system_selection='all and not type H',\n",
    "    show_progress=False\n",
    ")\n",
    "\n",
    "\n",
    "datamodule_graph = DictModule(dataset_graph, lengths=[1], shuffle=False)\n",
    "print(datamodule_graph)"
   ]
  },
  {
   "cell_type": "code",
   "execution_count": 28,
   "metadata": {},
   "outputs": [],
   "source": [
    "import torch\n",
    "from mlcolvar.utils.io import load_dataframe\n",
    "\n",
    "df = load_dataframe('data/colvar', stride=100)\n",
    "weights = torch.exp(1*torch.tensor(df['opes.bias'].values))\n",
    "weights = weights / weights.sum()\n",
    "weights\n",
    "\n",
    "aux = torch.zeros(len(dataset_graph))\n",
    "for i in range(len(weights)):\n",
    "    aux[-(len(weights)-i)] = weights[i]\n",
    "aux\n",
    "\n",
    "for i in range(len(dataset_graph)):\n",
    "    dataset_graph['data_list'][i]['weight'] = aux[i]"
   ]
  },
  {
   "cell_type": "code",
   "execution_count": 2,
   "metadata": {},
   "outputs": [
    {
     "data": {
      "text/plain": [
       "1700"
      ]
     },
     "execution_count": 2,
     "metadata": {},
     "output_type": "execute_result"
    }
   ],
   "source": [
    "len(dataset_graph)"
   ]
  },
  {
   "cell_type": "code",
   "execution_count": 29,
   "metadata": {},
   "outputs": [
    {
     "name": "stderr",
     "output_type": "stream",
     "text": [
      "/home/etrizio@iit.local/Bin/miniconda3/envs/graph_mlcolvar_test/lib/python3.9/site-packages/lightning/pytorch/utilities/parsing.py:198: Attribute 'model' is an instance of `nn.Module` and is already saved during checkpointing. It is recommended to ignore them using `self.save_hyperparameters(ignore=['model'])`.\n"
     ]
    },
    {
     "data": {
      "text/plain": [
       "Committor(\n",
       "  (loss_fn): CommittorLoss()\n",
       "  (nn): SchNetModel(\n",
       "    (_radial_embedding): RadialEmbeddingBlock(\n",
       "      (bessel_fn): GAUSSIANBASIS [ \u001b[32m16\u001b[0m\u001b[36m 󰯰 \u001b[0m| \u001b[32m8.000000\u001b[0m\u001b[36m 󰳁 \u001b[0m]\n",
       "    )\n",
       "    (W_v): Linear(in_features=2, out_features=32, bias=False)\n",
       "    (layers): ModuleList(\n",
       "      (0-1): 2 x InteractionBlock(\n",
       "        (mlp): Sequential(\n",
       "          (0): Linear(in_features=16, out_features=32, bias=True)\n",
       "          (1): ShiftedSoftplus()\n",
       "          (2): Linear(in_features=32, out_features=32, bias=True)\n",
       "        )\n",
       "        (conv): CFConv()\n",
       "        (act): ShiftedSoftplus()\n",
       "        (lin): Linear(in_features=32, out_features=32, bias=True)\n",
       "      )\n",
       "    )\n",
       "    (W_out): ModuleList(\n",
       "      (0): Linear(in_features=32, out_features=16, bias=True)\n",
       "      (1): ShiftedSoftplus()\n",
       "      (2): Linear(in_features=16, out_features=1, bias=True)\n",
       "    )\n",
       "  )\n",
       "  (sigmoid): Custom_Sigmoid()\n",
       ")"
      ]
     },
     "execution_count": 29,
     "metadata": {},
     "output_type": "execute_result"
    }
   ],
   "source": [
    "from mlcolvar.cvs.committor import Committor\n",
    "from mlcolvar.core.nn.graph.schnet import SchNetModel\n",
    "import torch\n",
    "\n",
    "gnn_model = SchNetModel(n_out=1,\n",
    "                        cutoff=dataset_graph.metadata['cutoff'],\n",
    "                        atomic_numbers=dataset_graph.metadata['z_table'],\n",
    "                        n_bases=16,\n",
    "                        n_layers=2,\n",
    "                        n_filters=32,\n",
    "                        n_hidden_channels=32,\n",
    "                    )\n",
    "\n",
    "model = Committor(model=gnn_model,\n",
    "                  mass=torch.Tensor([12, 19]),\n",
    "                  alpha=1)\n",
    "\n",
    "model"
   ]
  },
  {
   "cell_type": "code",
   "execution_count": 34,
   "metadata": {},
   "outputs": [
    {
     "name": "stderr",
     "output_type": "stream",
     "text": [
      "GPU available: True (cuda), used: True\n",
      "TPU available: False, using: 0 TPU cores\n",
      "IPU available: False, using: 0 IPUs\n",
      "HPU available: False, using: 0 HPUs\n",
      "LOCAL_RANK: 0 - CUDA_VISIBLE_DEVICES: [0]\n",
      "/home/etrizio@iit.local/Bin/miniconda3/envs/graph_mlcolvar_test/lib/python3.9/site-packages/lightning/pytorch/trainer/connectors/data_connector.py:441: The 'train_dataloader' does not have many workers which may be a bottleneck. Consider increasing the value of the `num_workers` argument` to `num_workers=63` in the `DataLoader` to improve performance.\n"
     ]
    },
    {
     "data": {
      "application/vnd.jupyter.widget-view+json": {
       "model_id": "020e80012d2d46809f41270cdb5692e2",
       "version_major": 2,
       "version_minor": 0
      },
      "text/plain": [
       "Training: |          | 0/? [00:00<?, ?it/s]"
      ]
     },
     "metadata": {},
     "output_type": "display_data"
    },
    {
     "name": "stderr",
     "output_type": "stream",
     "text": [
      "`Trainer.fit` stopped: `max_epochs=5000` reached.\n"
     ]
    }
   ],
   "source": [
    "from lightning import Trainer\n",
    "\n",
    "trainer = Trainer(\n",
    "    logger=False,\n",
    "    enable_checkpointing=False,\n",
    "    accelerator='cuda',\n",
    "    max_epochs=5000,\n",
    "    enable_model_summary=False,\n",
    "    limit_val_batches=0, \n",
    "    num_sanity_val_steps=0\n",
    ")\n",
    "\n",
    "trainer.fit(model, datamodule_graph)"
   ]
  },
  {
   "cell_type": "code",
   "execution_count": 35,
   "metadata": {},
   "outputs": [],
   "source": [
    "loader = datamodule_graph\n",
    "test = next(iter(loader.train_dataloader()))['data_list']\n",
    "out_graph = model(test)"
   ]
  },
  {
   "cell_type": "code",
   "execution_count": 36,
   "metadata": {},
   "outputs": [
    {
     "data": {
      "text/plain": [
       "tensor([[1.1561e-08],\n",
       "        [1.6096e-09],\n",
       "        [1.0000e+00],\n",
       "        ...,\n",
       "        [1.0000e+00],\n",
       "        [1.3562e-09],\n",
       "        [1.0000e+00]], grad_fn=<MulBackward0>)"
      ]
     },
     "execution_count": 36,
     "metadata": {},
     "output_type": "execute_result"
    }
   ],
   "source": [
    "out_graph"
   ]
  },
  {
   "cell_type": "code",
   "execution_count": 37,
   "metadata": {},
   "outputs": [
    {
     "data": {
      "image/png": "[encoded data removed]",
      "text/plain": [
       "<Figure size 640x480 with 1 Axes>"
      ]
     },
     "metadata": {},
     "output_type": "display_data"
    }
   ],
   "source": [
    "import matplotlib.pyplot as plt\n",
    "\n",
    "# plt.hist(out_graph.detach().squeeze())\n",
    "plt.plot(out_graph.detach().squeeze(), '.')\n",
    "plt.ylim(0,1)\n",
    "plt.show()"
   ]
  },
  {
   "cell_type": "code",
   "execution_count": null,
   "metadata": {},
   "outputs": [],
   "source": []
  }
 ],
 "metadata": {
  "kernelspec": {
   "display_name": "graph_mlcolvar_test",
   "language": "python",
   "name": "python3"
  },
  "language_info": {
   "codemirror_mode": {
    "name": "ipython",
    "version": 3
   },
   "file_extension": ".py",
   "mimetype": "text/x-python",
   "name": "python",
   "nbconvert_exporter": "python",
   "pygments_lexer": "ipython3",
   "version": "3.9.18"
  }
 },
 "nbformat": 4,
 "nbformat_minor": 2
}
