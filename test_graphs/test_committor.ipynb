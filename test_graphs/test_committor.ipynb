{
 "cells": [
  {
   "cell_type": "code",
   "execution_count": 1,
   "metadata": {},
   "outputs": [
    {
     "name": "stdout",
     "output_type": "stream",
     "text": [
      "Beta: 0.4009078751268027 \n",
      "1/beta: 2.4943386299999997\n",
      "DictModule(dataset -> DictDataset( \"data_list\": 12000, \"z_table\": [6, 7, 8], \"cutoff\": 10.0, \"data_type\": graphs ),\n",
      "\t\t     train_loader -> DictLoader(length=1, batch_size=12000, shuffle=False))\n"
     ]
    }
   ],
   "source": [
    "import torch\n",
    "from mlcolvar.data import DictModule\n",
    "from mlcolvar.utils.io import load_dataframe, create_dataset_from_trajectories\n",
    "from mlcolvar.cvs.committor.utils import compute_committor_weights\n",
    "\n",
    "# number of atoms\n",
    "n_atoms=10\n",
    "\n",
    "# temperature in Kelvin\n",
    "T = 300 \n",
    "\n",
    "# Boltzmann factor in the RIGHT ENERGY UNITS!\n",
    "kb = 0.0083144621 # kJ/mol\n",
    "beta = 1/(kb*T)\n",
    "print(f'Beta: {beta} \\n1/beta: {1/beta}')\n",
    "\n",
    "load_args = [{'start' : 0, 'stop' : 10000, 'stride' : 10},\n",
    "               {'start' : 0, 'stop' : 10000, 'stride' : 10},\n",
    "               {'start' : 0, 'stop' : 20000, 'stride' : 2}]\n",
    "dataset = create_dataset_from_trajectories(\n",
    "    trajectories=[\n",
    "        \"/home/etrizio@iit.local/alad/boundary/A/alad.trr\",\n",
    "        \"/home/etrizio@iit.local/alad/boundary/B/alad.trr\",\n",
    "        \"/home/etrizio@iit.local/alad/iteration_1/md/alad.trr\"\n",
    "    ],\n",
    "    top=[\n",
    "        \"/home/etrizio@iit.local/alad/boundary/A/alad.gro\",\n",
    "        \"/home/etrizio@iit.local/alad/boundary/B/alad.gro\",\n",
    "        \"/home/etrizio@iit.local/alad/boundary/A/alad.gro\"\n",
    "         ],\n",
    "    cutoff=10.0,  # Ang\n",
    "    create_labels=True,\n",
    "    system_selection='all and not type H',\n",
    "    show_progress=False,\n",
    "    load_args=load_args\n",
    "    )\n",
    "\n",
    "bias = torch.zeros(len(dataset))\n",
    "bias[-10000:] = torch.Tensor(load_dataframe(\"/home/etrizio@iit.local/alad/iteration_1/md/colvar\", stop=20000, stride=2)['opes.bias'])\n",
    "\n",
    "dataset = compute_committor_weights(dataset=dataset, bias=bias, data_groups=[0,1,2], beta=beta)\n",
    "\n",
    "datamodule_graph = DictModule(dataset, lengths=[1], shuffle=False)\n",
    "print(datamodule_graph)"
   ]
  },
  {
   "cell_type": "code",
   "execution_count": 2,
   "metadata": {},
   "outputs": [
    {
     "name": "stderr",
     "output_type": "stream",
     "text": [
      "/home/etrizio@iit.local/Bin/miniconda3/envs/graph_mlcolvar_test/lib/python3.9/site-packages/lightning/pytorch/utilities/parsing.py:198: Attribute 'model' is an instance of `nn.Module` and is already saved during checkpointing. It is recommended to ignore them using `self.save_hyperparameters(ignore=['model'])`.\n"
     ]
    }
   ],
   "source": [
    "from mlcolvar.cvs.committor import Committor\n",
    "from mlcolvar.core.nn.graph.schnet import SchNetModel\n",
    "import torch\n",
    "\n",
    "gnn_model = SchNetModel(n_out=1,\n",
    "                        cutoff=dataset.metadata['cutoff'],\n",
    "                        atomic_numbers=dataset.metadata['z_table'],\n",
    "                        n_bases=32,\n",
    "                        n_layers=2,\n",
    "                        n_filters=16,\n",
    "                        n_hidden_channels=16,\n",
    "                        w_out_after_sum=True,\n",
    "                        aggr='min'\n",
    "                    )\n",
    "\n",
    "# model = Committor(model=gnn_model,\n",
    "#                   mass=torch.Tensor([12, 19]),\n",
    "#                   alpha=1)\n",
    "\n",
    "options = {'optimizer' : {'lr' : 5e-4},\n",
    "           'lr_scheduler': {\n",
    "            'scheduler': torch.optim.lr_scheduler.ExponentialLR,\n",
    "            'gamma': 0.99995\n",
    "        }}\n",
    "\n",
    "model = Committor(model=gnn_model,\n",
    "                  mass=torch.Tensor([12, 14, 16]),\n",
    "                  alpha=10,\n",
    "                  gamma=1000,\n",
    "                  separate_boundary_dataset=False,\n",
    "                  z_regularization=True,\n",
    "                  options=options)\n"
   ]
  },
  {
   "cell_type": "code",
   "execution_count": null,
   "metadata": {},
   "outputs": [
    {
     "name": "stderr",
     "output_type": "stream",
     "text": [
      "GPU available: True (cuda), used: True\n",
      "TPU available: False, using: 0 TPU cores\n",
      "IPU available: False, using: 0 IPUs\n",
      "HPU available: False, using: 0 HPUs\n",
      "LOCAL_RANK: 0 - CUDA_VISIBLE_DEVICES: [0]\n",
      "/home/etrizio@iit.local/Bin/miniconda3/envs/graph_mlcolvar_test/lib/python3.9/site-packages/lightning/pytorch/trainer/connectors/data_connector.py:441: The 'train_dataloader' does not have many workers which may be a bottleneck. Consider increasing the value of the `num_workers` argument` to `num_workers=63` in the `DataLoader` to improve performance.\n"
     ]
    },
    {
     "data": {
      "application/vnd.jupyter.widget-view+json": {
       "model_id": "3398b676c4e749fbb904dc327cc412fc",
       "version_major": 2,
       "version_minor": 0
      },
      "text/plain": [
       "Training: |          | 0/? [00:00<?, ?it/s]"
      ]
     },
     "metadata": {},
     "output_type": "display_data"
    },
    {
     "name": "stderr",
     "output_type": "stream",
     "text": [
      "/home/etrizio@iit.local/Bin/miniconda3/envs/graph_mlcolvar_test/lib/python3.9/site-packages/lightning/pytorch/utilities/data.py:77: Trying to infer the `batch_size` from an ambiguous collection. The batch size we found is 2. To avoid any miscalculations, use `self.log(..., batch_size=batch_size)`.\n",
      "`Trainer.fit` stopped: `max_epochs=10000` reached.\n"
     ]
    }
   ],
   "source": [
    "from lightning import Trainer\n",
    "\n",
    "trainer = Trainer(\n",
    "    logger=False,\n",
    "    enable_checkpointing=False,\n",
    "    accelerator='cuda',\n",
    "    max_epochs=2000,\n",
    "    enable_model_summary=False,\n",
    "    limit_val_batches=0, \n",
    "    num_sanity_val_steps=0\n",
    ")\n",
    "\n",
    "trainer.fit(model, datamodule_graph)"
   ]
  },
  {
   "cell_type": "code",
   "execution_count": 4,
   "metadata": {},
   "outputs": [
    {
     "name": "stderr",
     "output_type": "stream",
     "text": [
      "/home/etrizio@iit.local/Bin/dev/mlcolvar/mlcolvar/data/datamodule.py:136: UserWarning: A torch.generator was provided but it is not used with random_split=False\n",
      "  warnings.warn(\n"
     ]
    }
   ],
   "source": [
    "load_args = [\n",
    "    #{'start' : 0, 'stop' : 1000, 'stride' : 1},\n",
    "    #           {'start' : 0, 'stop' : 1000, 'stride' : 1},\n",
    "               {'start' : 0, 'stop' : 20000, 'stride' : 1}]\n",
    "dataset = create_dataset_from_trajectories(\n",
    "    trajectories=[\n",
    "        # \"/home/etrizio@iit.local/alad/boundary/A/alad.trr\",\n",
    "        # \"/home/etrizio@iit.local/alad/boundary/B/alad.trr\",\n",
    "        \"/home/etrizio@iit.local/alad/iteration_1/md/alad.trr\"\n",
    "    ],\n",
    "    top=[\n",
    "        # \"/home/etrizio@iit.local/alad/boundary/A/alad.gro\",\n",
    "        # \"/home/etrizio@iit.local/alad/boundary/B/alad.gro\",\n",
    "        \"/home/etrizio@iit.local/alad/boundary/A/alad.gro\"\n",
    "         ],\n",
    "    cutoff=10.0,  # Ang\n",
    "    create_labels=True,\n",
    "    system_selection='all and not type H',\n",
    "    show_progress=False,\n",
    "    load_args=load_args\n",
    "    )\n",
    "\n",
    "colvar = load_dataframe(\"/home/etrizio@iit.local/alad/iteration_1/md/colvar\", stop=20000)\n",
    "\n",
    "datamodule_graph = DictModule(dataset, lengths=[1], shuffle=False, random_split=False)\n"
   ]
  },
  {
   "cell_type": "code",
   "execution_count": 5,
   "metadata": {},
   "outputs": [],
   "source": [
    "datamodule_graph.setup()\n",
    "loader = datamodule_graph\n",
    "test = next(iter(loader.train_dataloader()))['data_list']\n",
    "out_graph = model(test)"
   ]
  },
  {
   "cell_type": "code",
   "execution_count": 6,
   "metadata": {},
   "outputs": [
    {
     "data": {
      "text/plain": [
       "tensor([nan, nan, nan,  ..., nan, nan, nan], grad_fn=<SelectBackward0>)"
      ]
     },
     "execution_count": 6,
     "metadata": {},
     "output_type": "execute_result"
    }
   ],
   "source": [
    "out_graph[:, 1]"
   ]
  },
  {
   "cell_type": "code",
   "execution_count": 7,
   "metadata": {},
   "outputs": [
    {
     "data": {
      "image/png": "[encoded data removed]",
      "text/plain": [
       "<Figure size 640x480 with 2 Axes>"
      ]
     },
     "metadata": {},
     "output_type": "display_data"
    }
   ],
   "source": [
    "import matplotlib.pyplot as plt\n",
    "\n",
    "# plt.hist(out_graph.detach().squeeze())\n",
    "# plt.scatter(torch.arange(len(dataset)).numpy(), out_graph.detach().squeeze(), c=[dataset['data_list'][i]['graph_labels'] for i in range(len(dataset))])\n",
    "cp = plt.scatter(colvar['phi'], colvar['psi'], c=out_graph[:, 0].detach().squeeze().numpy(), s=2)\n",
    "plt.colorbar(cp)\n",
    "# plt.ylim(0,1)\n",
    "plt.show()"
   ]
  },
  {
   "cell_type": "code",
   "execution_count": null,
   "metadata": {},
   "outputs": [],
   "source": []
  }
 ],
 "metadata": {
  "kernelspec": {
   "display_name": "graph_mlcolvar_test",
   "language": "python",
   "name": "python3"
  },
  "language_info": {
   "codemirror_mode": {
    "name": "ipython",
    "version": 3
   },
   "file_extension": ".py",
   "mimetype": "text/x-python",
   "name": "python",
   "nbconvert_exporter": "python",
   "pygments_lexer": "ipython3",
   "version": "3.9.18"
  }
 },
 "nbformat": 4,
 "nbformat_minor": 2
}
