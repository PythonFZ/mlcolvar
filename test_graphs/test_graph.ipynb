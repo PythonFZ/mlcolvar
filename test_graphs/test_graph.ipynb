{
 "cells": [
  {
   "cell_type": "code",
   "execution_count": 1,
   "metadata": {},
   "outputs": [
    {
     "name": "stdout",
     "output_type": "stream",
     "text": [
      "DictModule(dataset -> DictDataset( \"data_list\": 1600, \"z_table\": [6, 9], \"cutoff\": 8.0, \"data_type\": graphs ),\n",
      "\t\t     train_loader -> DictLoader(length=0.8, batch_size=1600, shuffle=1),\n",
      "\t\t     valid_loader -> DictLoader(length=0.2, batch_size=1600, shuffle=0))\n",
      "Class 0 dataframe shape:  (800, 24)\n",
      "Class 1 dataframe shape:  (800, 24)\n",
      "\n",
      " - Loaded dataframe (1600, 24): ['time', 'd1', 'd2', 'd3', 'd4', 'd5', 'd6', 'd7', 'd8', 'd9', 'd10', 'd11', 'd12', 'd13', 'd14', 'd15', 'd16', 'd17', 'd18', 'd19', 'd20', 'd21', 'walker', 'labels']\n",
      " - Descriptors (1600, 21): ['d1', 'd2', 'd3', 'd4', 'd5', 'd6', 'd7', 'd8', 'd9', 'd10', 'd11', 'd12', 'd13', 'd14', 'd15', 'd16', 'd17', 'd18', 'd19', 'd20', 'd21']\n"
     ]
    }
   ],
   "source": [
    "import torch\n",
    "from mlcolvar.data import DictModule\n",
    "from mlcolvar.utils.io import create_dataset_from_trajectories\n",
    "from mlcolvar.utils.io import create_dataset_from_files\n",
    "\n",
    "\n",
    "dataset_graph = create_dataset_from_trajectories(\n",
    "    trajectories=[\n",
    "        'data/r.dcd',\n",
    "        'data/p.dcd'\n",
    "    ],\n",
    "    top=['data/r.pdb', \n",
    "         'data/p.pdb'],\n",
    "    cutoff=8.0,  # Ang\n",
    "    create_labels=True,\n",
    "    system_selection='all and not type H',\n",
    "    show_progress=False\n",
    ")\n",
    "\n",
    "datamodule_graph = DictModule(dataset_graph, lengths=[0.8, 0.2], shuffle=[1, 0])\n",
    "print(datamodule_graph)\n",
    "\n",
    "\n",
    "dataset_ff = create_dataset_from_files(file_names=['data/colvar_r.dat',\n",
    "                                                   'data/colvar_p.dat'],\n",
    "                                                   filter_args={'regex': 'd'})\n",
    "\n",
    "datamodule_ff = DictModule(dataset_ff, lengths=[0.8, 0.2], shuffle=[1, 0])\n"
   ]
  },
  {
   "cell_type": "code",
   "execution_count": 2,
   "metadata": {},
   "outputs": [
    {
     "name": "stderr",
     "output_type": "stream",
     "text": [
      "GPU available: True (cuda), used: False\n",
      "TPU available: False, using: 0 TPU cores\n",
      "IPU available: False, using: 0 IPUs\n",
      "HPU available: False, using: 0 HPUs\n",
      "/home/etrizio@iit.local/Bin/miniconda3/envs/graph_mlcolvar_test/lib/python3.9/site-packages/lightning/pytorch/trainer/setup.py:187: GPU available but not used. You can set it by doing `Trainer(accelerator='gpu')`.\n"
     ]
    },
    {
     "data": {
      "application/vnd.jupyter.widget-view+json": {
       "model_id": "b4a53ab5e07749d0aea380482e04a522",
       "version_major": 2,
       "version_minor": 0
      },
      "text/plain": [
       "Sanity Checking: |          | 0/? [00:00<?, ?it/s]"
      ]
     },
     "metadata": {},
     "output_type": "display_data"
    },
    {
     "data": {
      "application/vnd.jupyter.widget-view+json": {
       "model_id": "8af4f8780c844d0996182d052ece0529",
       "version_major": 2,
       "version_minor": 0
      },
      "text/plain": [
       "Training: |          | 0/? [00:00<?, ?it/s]"
      ]
     },
     "metadata": {},
     "output_type": "display_data"
    },
    {
     "data": {
      "application/vnd.jupyter.widget-view+json": {
       "model_id": "1e55b080a1d54c969849c70306beecf4",
       "version_major": 2,
       "version_minor": 0
      },
      "text/plain": [
       "Validation: |          | 0/? [00:00<?, ?it/s]"
      ]
     },
     "metadata": {},
     "output_type": "display_data"
    },
    {
     "data": {
      "application/vnd.jupyter.widget-view+json": {
       "model_id": "d8998a0cc4824cacbd3708315b065c5c",
       "version_major": 2,
       "version_minor": 0
      },
      "text/plain": [
       "Validation: |          | 0/? [00:00<?, ?it/s]"
      ]
     },
     "metadata": {},
     "output_type": "display_data"
    },
    {
     "data": {
      "application/vnd.jupyter.widget-view+json": {
       "model_id": "e5a932456b224c6082e652e6f7254dcc",
       "version_major": 2,
       "version_minor": 0
      },
      "text/plain": [
       "Validation: |          | 0/? [00:00<?, ?it/s]"
      ]
     },
     "metadata": {},
     "output_type": "display_data"
    },
    {
     "data": {
      "application/vnd.jupyter.widget-view+json": {
       "model_id": "18ea9ad7d77c4c949a9e710e2612336b",
       "version_major": 2,
       "version_minor": 0
      },
      "text/plain": [
       "Validation: |          | 0/? [00:00<?, ?it/s]"
      ]
     },
     "metadata": {},
     "output_type": "display_data"
    },
    {
     "data": {
      "application/vnd.jupyter.widget-view+json": {
       "model_id": "5958072307e649a18ae79f835149c6f9",
       "version_major": 2,
       "version_minor": 0
      },
      "text/plain": [
       "Validation: |          | 0/? [00:00<?, ?it/s]"
      ]
     },
     "metadata": {},
     "output_type": "display_data"
    },
    {
     "name": "stderr",
     "output_type": "stream",
     "text": [
      "`Trainer.fit` stopped: `max_epochs=5` reached.\n"
     ]
    },
    {
     "data": {
      "text/plain": [
       "{'epoch': 4,\n",
       " 'global_step': 5,\n",
       " 'pytorch-lightning_version': '2.1.3',\n",
       " 'state_dict': OrderedDict([('norm_in.mean',\n",
       "               tensor([0.1468, 0.1508, 0.1509, 0.2031, 0.2564, 0.2317, 0.2458, 0.2498, 0.1993,\n",
       "                       0.1505, 0.1332, 0.2544, 0.3068, 0.3421, 0.2865, 0.2851, 0.3215, 0.3452,\n",
       "                       0.3085, 0.2619, 0.2324])),\n",
       "              ('norm_in.range',\n",
       "               tensor([0.0036, 0.0066, 0.0061, 0.0474, 0.0114, 0.0055, 0.0135, 0.0126, 0.0465,\n",
       "                       0.0055, 0.0050, 0.0065, 0.0526, 0.0296, 0.0396, 0.0307, 0.0257, 0.0382,\n",
       "                       0.0586, 0.0380, 0.0064])),\n",
       "              ('encoder.nn.0.weight',\n",
       "               tensor([[-0.2054, -0.0721, -0.0196, -0.1898,  0.0537, -0.1277,  0.0712,  0.0602,\n",
       "                        -0.0067, -0.2080,  0.0895, -0.1587, -0.0586, -0.1271, -0.0639, -0.2008,\n",
       "                        -0.0527,  0.0900,  0.0235,  0.1479, -0.0665]])),\n",
       "              ('encoder.nn.0.bias', tensor([-0.1444])),\n",
       "              ('decoder.nn.0.weight',\n",
       "               tensor([[ 0.2228],\n",
       "                       [-0.0035],\n",
       "                       [-0.4090],\n",
       "                       [-0.6699],\n",
       "                       [ 0.4302],\n",
       "                       [ 0.8449],\n",
       "                       [ 0.8405],\n",
       "                       [ 0.4449],\n",
       "                       [ 0.6611],\n",
       "                       [-0.0661],\n",
       "                       [-0.9770],\n",
       "                       [-0.7756],\n",
       "                       [ 0.4182],\n",
       "                       [ 0.7633],\n",
       "                       [ 0.1291],\n",
       "                       [ 0.0150],\n",
       "                       [-0.1202],\n",
       "                       [-0.2223],\n",
       "                       [-0.8676],\n",
       "                       [ 0.6776],\n",
       "                       [ 0.6080]])),\n",
       "              ('decoder.nn.0.bias',\n",
       "               tensor([ 0.5133,  0.7967,  0.0857, -0.5807, -0.9752, -0.1530, -0.2813,  0.2669,\n",
       "                       -0.5884, -0.2480,  0.9596,  0.2142,  0.1573,  0.9616,  0.3430, -0.7429,\n",
       "                       -0.8357, -0.9308, -0.4866, -0.7233,  0.9649]))]),\n",
       " 'loops': {'fit_loop': {'state_dict': {},\n",
       "   'epoch_loop.state_dict': {'_batches_that_stepped': 5},\n",
       "   'epoch_loop.batch_progress': {'total': {'ready': 5,\n",
       "     'completed': 5,\n",
       "     'started': 5,\n",
       "     'processed': 5},\n",
       "    'current': {'ready': 1, 'completed': 1, 'started': 1, 'processed': 1},\n",
       "    'is_last_batch': True},\n",
       "   'epoch_loop.scheduler_progress': {'total': {'ready': 0, 'completed': 0},\n",
       "    'current': {'ready': 0, 'completed': 0}},\n",
       "   'epoch_loop.automatic_optimization.state_dict': {},\n",
       "   'epoch_loop.automatic_optimization.optim_progress': {'optimizer': {'step': {'total': {'ready': 5,\n",
       "       'completed': 5},\n",
       "      'current': {'ready': 1, 'completed': 1}},\n",
       "     'zero_grad': {'total': {'ready': 5, 'completed': 5, 'started': 5},\n",
       "      'current': {'ready': 1, 'completed': 1, 'started': 1}}}},\n",
       "   'epoch_loop.manual_optimization.state_dict': {},\n",
       "   'epoch_loop.manual_optimization.optim_step_progress': {'total': {'ready': 0,\n",
       "     'completed': 0},\n",
       "    'current': {'ready': 0, 'completed': 0}},\n",
       "   'epoch_loop.val_loop.state_dict': {},\n",
       "   'epoch_loop.val_loop.batch_progress': {'total': {'ready': 1,\n",
       "     'completed': 1,\n",
       "     'started': 1,\n",
       "     'processed': 1},\n",
       "    'current': {'ready': 1, 'completed': 1, 'started': 1, 'processed': 1},\n",
       "    'is_last_batch': True},\n",
       "   'epoch_progress': {'total': {'ready': 5,\n",
       "     'completed': 4,\n",
       "     'started': 5,\n",
       "     'processed': 5},\n",
       "    'current': {'ready': 5, 'completed': 4, 'started': 5, 'processed': 5}}},\n",
       "  'validate_loop': {'state_dict': {},\n",
       "   'batch_progress': {'total': {'ready': 0,\n",
       "     'completed': 0,\n",
       "     'started': 0,\n",
       "     'processed': 0},\n",
       "    'current': {'ready': 0, 'completed': 0, 'started': 0, 'processed': 0},\n",
       "    'is_last_batch': False}},\n",
       "  'test_loop': {'state_dict': {},\n",
       "   'batch_progress': {'total': {'ready': 0,\n",
       "     'completed': 0,\n",
       "     'started': 0,\n",
       "     'processed': 0},\n",
       "    'current': {'ready': 0, 'completed': 0, 'started': 0, 'processed': 0},\n",
       "    'is_last_batch': False}},\n",
       "  'predict_loop': {'state_dict': {},\n",
       "   'batch_progress': {'total': {'ready': 0,\n",
       "     'completed': 0,\n",
       "     'started': 0,\n",
       "     'processed': 0},\n",
       "    'current': {'ready': 0, 'completed': 0, 'started': 0, 'processed': 0}}}},\n",
       " 'callbacks': {\"ModelCheckpoint{'monitor': None, 'mode': 'min', 'every_n_train_steps': 0, 'every_n_epochs': 1, 'train_time_interval': None}\": {'monitor': None,\n",
       "   'best_model_score': None,\n",
       "   'best_model_path': '/home/etrizio@iit.local/Bin/dev/mlcolvar/test_graphs/checkpoints/epoch=4-step=5.ckpt',\n",
       "   'current_score': None,\n",
       "   'dirpath': '/home/etrizio@iit.local/Bin/dev/mlcolvar/test_graphs/checkpoints',\n",
       "   'best_k_models': {},\n",
       "   'kth_best_model_path': '',\n",
       "   'kth_value': tensor(inf),\n",
       "   'last_model_path': ''}},\n",
       " 'optimizer_states': [{'state': {0: {'step': tensor(5.),\n",
       "     'exp_avg': tensor([[-1.1167e-04,  1.2409e-04,  1.0549e-04, -1.5836e-04,  8.8900e-05,\n",
       "              -1.0666e-05, -1.2075e-04, -7.7516e-05,  1.5776e-04, -1.4520e-04,\n",
       "              -1.2171e-04, -1.4885e-06, -1.5247e-04, -1.1060e-04,  9.5677e-05,\n",
       "              -1.5328e-04,  2.9414e-06, -5.4484e-05,  1.7334e-04,  7.2355e-05,\n",
       "              -7.5724e-05]]),\n",
       "     'exp_avg_sq': tensor([[3.7388e-10, 4.6360e-10, 3.3579e-10, 7.5478e-10, 2.3856e-10, 3.3400e-12,\n",
       "              4.3694e-10, 1.8150e-10, 7.4912e-10, 6.3359e-10, 4.4637e-10, 1.1322e-13,\n",
       "              6.9969e-10, 3.6712e-10, 2.7630e-10, 7.0707e-10, 4.5295e-13, 9.0773e-11,\n",
       "              9.0247e-10, 1.5906e-10, 1.7242e-10]])},\n",
       "    1: {'step': tensor(5.),\n",
       "     'exp_avg': tensor([4.0011e-05]),\n",
       "     'exp_avg_sq': tensor([4.7894e-11])},\n",
       "    2: {'step': tensor(5.),\n",
       "     'exp_avg': tensor([[ 2.3062e-07],\n",
       "             [-9.3685e-07],\n",
       "             [-8.6016e-07],\n",
       "             [ 3.0358e-05],\n",
       "             [ 1.7856e-09],\n",
       "             [ 5.2271e-07],\n",
       "             [ 5.6167e-06],\n",
       "             [ 2.9093e-06],\n",
       "             [-1.4275e-05],\n",
       "             [ 6.3880e-07],\n",
       "             [-1.4684e-07],\n",
       "             [-5.9779e-07],\n",
       "             [ 7.8662e-05],\n",
       "             [ 1.6288e-05],\n",
       "             [-1.8272e-05],\n",
       "             [ 2.4680e-05],\n",
       "             [-1.9258e-06],\n",
       "             [ 1.9194e-05],\n",
       "             [-1.1314e-04],\n",
       "             [-5.8809e-07],\n",
       "             [ 6.8346e-07]]),\n",
       "     'exp_avg_sq': tensor([[1.6001e-15],\n",
       "             [2.6338e-14],\n",
       "             [2.2317e-14],\n",
       "             [2.7517e-11],\n",
       "             [1.8370e-17],\n",
       "             [8.2329e-15],\n",
       "             [9.4944e-13],\n",
       "             [2.5586e-13],\n",
       "             [6.1249e-12],\n",
       "             [1.2241e-14],\n",
       "             [6.4870e-16],\n",
       "             [1.0865e-14],\n",
       "             [1.8641e-10],\n",
       "             [8.0587e-12],\n",
       "             [1.0056e-11],\n",
       "             [1.8277e-11],\n",
       "             [1.1801e-13],\n",
       "             [1.1048e-11],\n",
       "             [3.8644e-10],\n",
       "             [1.0764e-14],\n",
       "             [1.4162e-14]])},\n",
       "    3: {'step': tensor(5.),\n",
       "     'exp_avg': tensor([ 2.5061e-07,  1.3601e-06,  2.1282e-07, -4.2920e-05, -5.2313e-06,\n",
       "             -3.2008e-07, -2.8588e-06,  1.2812e-06, -5.7708e-05, -2.8487e-07,\n",
       "              1.0580e-06,  5.3774e-07,  1.0863e-05,  2.9237e-05,  2.0094e-05,\n",
       "             -2.7551e-05, -2.1208e-05, -5.1449e-05, -4.9037e-05, -4.6315e-05,\n",
       "              1.4058e-06]),\n",
       "     'exp_avg_sq': tensor([1.8706e-15, 5.5073e-14, 1.3505e-15, 5.4899e-11, 8.1447e-13, 3.0499e-15,\n",
       "             2.4326e-13, 4.8978e-14, 9.9106e-11, 2.4197e-15, 3.3307e-14, 8.6082e-15,\n",
       "             3.5310e-12, 2.5456e-11, 1.2034e-11, 2.2600e-11, 1.3390e-11, 7.8814e-11,\n",
       "             7.1697e-11, 6.3834e-11, 5.8849e-14])}},\n",
       "   'param_groups': [{'lr': 0.001,\n",
       "     'betas': (0.9, 0.999),\n",
       "     'eps': 1e-08,\n",
       "     'weight_decay': 0,\n",
       "     'amsgrad': False,\n",
       "     'maximize': False,\n",
       "     'foreach': None,\n",
       "     'capturable': False,\n",
       "     'differentiable': False,\n",
       "     'fused': None,\n",
       "     'params': [0, 1, 2, 3]}]}],\n",
       " 'lr_schedulers': [],\n",
       " 'hparams_name': 'kwargs',\n",
       " 'hyper_parameters': {'preprocessing': None,\n",
       "  'postprocessing': None,\n",
       "  'encoder_layers': [21, 1],\n",
       "  'decoder_layers': None,\n",
       "  'options': None}}"
      ]
     },
     "execution_count": 2,
     "metadata": {},
     "output_type": "execute_result"
    }
   ],
   "source": [
    "from mlcolvar.cvs import AutoEncoderCV\n",
    "!rm -r checkpoints\n",
    "\n",
    "model = AutoEncoderCV([21,1])\n",
    "\n",
    "from lightning import Trainer\n",
    "\n",
    "trainer = Trainer(\n",
    "    logger=False,\n",
    "    enable_checkpointing=True,\n",
    "    accelerator='cpu',\n",
    "    max_epochs=5,\n",
    "    enable_model_summary=False\n",
    ")\n",
    "\n",
    "trainer.fit(model, datamodule_ff)\n",
    "torch.load('checkpoints/epoch=4-step=5.ckpt')"
   ]
  },
  {
   "cell_type": "code",
   "execution_count": 3,
   "metadata": {},
   "outputs": [
    {
     "data": {
      "text/plain": [
       "\"decoder_layers\": None\n",
       "\"encoder_layers\": [21, 1]\n",
       "\"options\":        None\n",
       "\"postprocessing\": None\n",
       "\"preprocessing\":  None"
      ]
     },
     "execution_count": 3,
     "metadata": {},
     "output_type": "execute_result"
    }
   ],
   "source": [
    "model.hparams"
   ]
  },
  {
   "cell_type": "code",
   "execution_count": 63,
   "metadata": {},
   "outputs": [
    {
     "data": {
      "text/plain": [
       "DataBatch(edge_index=[2, 53760], shifts=[53760, 3], unit_shifts=[53760, 3], positions=[8960, 3], cell=[3840, 3], node_attrs=[8960, 2], graph_labels=[1280, 1], n_system=[1280, 1], weight=[1280], batch=[8960], ptr=[1281])"
      ]
     },
     "execution_count": 63,
     "metadata": {},
     "output_type": "execute_result"
    }
   ],
   "source": [
    "import torch_geometric\n",
    "datamodule_graph.setup()\n",
    "a = datamodule_graph.train_dataloader()\n",
    "list(a)\n",
    "test = next(iter(a))\n",
    "inp = test['data_list']\n",
    "inp"
   ]
  },
  {
   "cell_type": "code",
   "execution_count": 64,
   "metadata": {},
   "outputs": [
    {
     "name": "stdout",
     "output_type": "stream",
     "text": [
      "torch.Size([8960])\n",
      "torch.Size([1280, 1])\n"
     ]
    },
    {
     "data": {
      "text/plain": [
       "tensor([  1,   1,   1,  ..., 643, 643, 643])"
      ]
     },
     "execution_count": 64,
     "metadata": {},
     "output_type": "execute_result"
    }
   ],
   "source": [
    "import torch\n",
    "batch = inp['batch']\n",
    "labels = inp['graph_labels']\n",
    "\n",
    "print(batch.shape)\n",
    "print(labels.shape)\n",
    "\n",
    "_mask_var_labels = torch.where(torch.nonzero(labels.squeeze() < 1))[0]\n",
    "_mask_var_batches = torch.isin(batch, _mask_var_labels)\n",
    "mask_var = (batch[_mask_var_batches])\n",
    "mask_var"
   ]
  },
  {
   "cell_type": "code",
   "execution_count": 65,
   "metadata": {},
   "outputs": [],
   "source": [
    "from mlcolvar.core.nn.graph.schnet import SchNetModel\n",
    "\n",
    "gnn_model = SchNetModel(n_out=1,\n",
    "                        cutoff=dataset_graph.metadata['cutoff'],\n",
    "                        atomic_numbers=dataset_graph.metadata['z_table'],\n",
    "                        n_bases=6,\n",
    "                        n_layers=2,\n",
    "                        n_filters=32,\n",
    "                        n_hidden_channels=32\n",
    "                    )"
   ]
  },
  {
   "cell_type": "code",
   "execution_count": 66,
   "metadata": {},
   "outputs": [
    {
     "name": "stderr",
     "output_type": "stream",
     "text": [
      "/home/etrizio@iit.local/Bin/miniconda3/envs/graph_mlcolvar_test/lib/python3.9/site-packages/lightning/pytorch/utilities/parsing.py:198: Attribute 'model' is an instance of `nn.Module` and is already saved during checkpointing. It is recommended to ignore them using `self.save_hyperparameters(ignore=['model'])`.\n"
     ]
    }
   ],
   "source": [
    "from mlcolvar.cvs.supervised.deeptda import DeepTDA\n",
    "\n",
    "model_graph = DeepTDA(n_states=2,\n",
    "                        n_cvs=1,\n",
    "                        target_centers=[-7, 7],\n",
    "                        target_sigmas=[0.2, 0.2],\n",
    "                        model=gnn_model)\n",
    "\n",
    "from mlcolvar.core.nn import FeedForward\n",
    "\n",
    "ff_model = FeedForward(layers=[21, 15, 10, 1])\n",
    "model_ff = DeepTDA(n_states=2,\n",
    "                    n_cvs=1,\n",
    "                    target_centers=[-7, 7],\n",
    "                    target_sigmas=[0.2, 0.2],\n",
    "                    model=ff_model)"
   ]
  },
  {
   "cell_type": "code",
   "execution_count": 12,
   "metadata": {},
   "outputs": [
    {
     "data": {
      "text/plain": [
       "False"
      ]
     },
     "execution_count": 12,
     "metadata": {},
     "output_type": "execute_result"
    }
   ],
   "source": [
    "model_graph.eval()\n",
    "model_graph.training"
   ]
  },
  {
   "cell_type": "code",
   "execution_count": null,
   "metadata": {},
   "outputs": [
    {
     "name": "stderr",
     "output_type": "stream",
     "text": [
      "GPU available: True (cuda), used: True\n",
      "TPU available: False, using: 0 TPU cores\n",
      "IPU available: False, using: 0 IPUs\n",
      "HPU available: False, using: 0 HPUs\n",
      "LOCAL_RANK: 0 - CUDA_VISIBLE_DEVICES: [0]\n"
     ]
    },
    {
     "data": {
      "application/vnd.jupyter.widget-view+json": {
       "model_id": "1f632698154d471c9a6237214a61c1ac",
       "version_major": 2,
       "version_minor": 0
      },
      "text/plain": [
       "Sanity Checking: |          | 0/? [00:00<?, ?it/s]"
      ]
     },
     "metadata": {},
     "output_type": "display_data"
    },
    {
     "name": "stderr",
     "output_type": "stream",
     "text": [
      "/home/etrizio@iit.local/Bin/miniconda3/envs/graph_mlcolvar_test/lib/python3.9/site-packages/lightning/pytorch/trainer/connectors/data_connector.py:441: The 'val_dataloader' does not have many workers which may be a bottleneck. Consider increasing the value of the `num_workers` argument` to `num_workers=63` in the `DataLoader` to improve performance.\n",
      "/home/etrizio@iit.local/Bin/miniconda3/envs/graph_mlcolvar_test/lib/python3.9/site-packages/lightning/pytorch/utilities/data.py:77: Trying to infer the `batch_size` from an ambiguous collection. The batch size we found is 2. To avoid any miscalculations, use `self.log(..., batch_size=batch_size)`.\n",
      "/home/etrizio@iit.local/Bin/miniconda3/envs/graph_mlcolvar_test/lib/python3.9/site-packages/lightning/pytorch/trainer/connectors/data_connector.py:441: The 'train_dataloader' does not have many workers which may be a bottleneck. Consider increasing the value of the `num_workers` argument` to `num_workers=63` in the `DataLoader` to improve performance.\n"
     ]
    },
    {
     "data": {
      "application/vnd.jupyter.widget-view+json": {
       "model_id": "caa8d8cb54e74c0c911b354e8195e1f3",
       "version_major": 2,
       "version_minor": 0
      },
      "text/plain": [
       "Training: |          | 0/? [00:00<?, ?it/s]"
      ]
     },
     "metadata": {},
     "output_type": "display_data"
    },
    {
     "data": {
      "application/vnd.jupyter.widget-view+json": {
       "model_id": "5f6b0b39e767411ab21b5c576ebf1854",
       "version_major": 2,
       "version_minor": 0
      },
      "text/plain": [
       "Validation: |          | 0/? [00:00<?, ?it/s]"
      ]
     },
     "metadata": {},
     "output_type": "display_data"
    },
    {
     "data": {
      "application/vnd.jupyter.widget-view+json": {
       "model_id": "dda23e4e590346cc8f1caaf57086bb8f",
       "version_major": 2,
       "version_minor": 0
      },
      "text/plain": [
       "Validation: |          | 0/? [00:00<?, ?it/s]"
      ]
     },
     "metadata": {},
     "output_type": "display_data"
    },
    {
     "data": {
      "application/vnd.jupyter.widget-view+json": {
       "model_id": "59c2ed2a04f947a1bea5ada00117d421",
       "version_major": 2,
       "version_minor": 0
      },
      "text/plain": [
       "Validation: |          | 0/? [00:00<?, ?it/s]"
      ]
     },
     "metadata": {},
     "output_type": "display_data"
    },
    {
     "data": {
      "application/vnd.jupyter.widget-view+json": {
       "model_id": "1261ba1ea3aa43ee9b4d8438c9b25128",
       "version_major": 2,
       "version_minor": 0
      },
      "text/plain": [
       "Validation: |          | 0/? [00:00<?, ?it/s]"
      ]
     },
     "metadata": {},
     "output_type": "display_data"
    },
    {
     "data": {
      "application/vnd.jupyter.widget-view+json": {
       "model_id": "3f4df8678ec84b97af7489f837449976",
       "version_major": 2,
       "version_minor": 0
      },
      "text/plain": [
       "Validation: |          | 0/? [00:00<?, ?it/s]"
      ]
     },
     "metadata": {},
     "output_type": "display_data"
    },
    {
     "data": {
      "application/vnd.jupyter.widget-view+json": {
       "model_id": "e7d4e3437917417ca4027c30f143fb2d",
       "version_major": 2,
       "version_minor": 0
      },
      "text/plain": [
       "Validation: |          | 0/? [00:00<?, ?it/s]"
      ]
     },
     "metadata": {},
     "output_type": "display_data"
    },
    {
     "data": {
      "application/vnd.jupyter.widget-view+json": {
       "model_id": "5ea2bc6fd8604502aa9ed3c5ef2da64a",
       "version_major": 2,
       "version_minor": 0
      },
      "text/plain": [
       "Validation: |          | 0/? [00:00<?, ?it/s]"
      ]
     },
     "metadata": {},
     "output_type": "display_data"
    },
    {
     "data": {
      "application/vnd.jupyter.widget-view+json": {
       "model_id": "86b2a9d0882f437b9d2fad3cbb364dd0",
       "version_major": 2,
       "version_minor": 0
      },
      "text/plain": [
       "Validation: |          | 0/? [00:00<?, ?it/s]"
      ]
     },
     "metadata": {},
     "output_type": "display_data"
    },
    {
     "data": {
      "application/vnd.jupyter.widget-view+json": {
       "model_id": "382a80378ce64a188de072df50602036",
       "version_major": 2,
       "version_minor": 0
      },
      "text/plain": [
       "Validation: |          | 0/? [00:00<?, ?it/s]"
      ]
     },
     "metadata": {},
     "output_type": "display_data"
    },
    {
     "data": {
      "application/vnd.jupyter.widget-view+json": {
       "model_id": "1832f0ae26d34c9297525ac40180fbc7",
       "version_major": 2,
       "version_minor": 0
      },
      "text/plain": [
       "Validation: |          | 0/? [00:00<?, ?it/s]"
      ]
     },
     "metadata": {},
     "output_type": "display_data"
    },
    {
     "name": "stderr",
     "output_type": "stream",
     "text": [
      "`Trainer.fit` stopped: `max_epochs=10` reached.\n"
     ]
    }
   ],
   "source": [
    "from lightning import Trainer\n",
    "\n",
    "trainer = Trainer(\n",
    "    logger=False,\n",
    "    enable_checkpointing=False,\n",
    "    accelerator='cuda',\n",
    "    max_epochs=10,\n",
    "    enable_model_summary=False\n",
    ")\n",
    "\n",
    "trainer.fit(model_graph, datamodule_graph)"
   ]
  },
  {
   "cell_type": "code",
   "execution_count": 68,
   "metadata": {},
   "outputs": [
    {
     "data": {
      "text/plain": [
       "DataBatch(edge_index=[2, 53760], shifts=[53760, 3], unit_shifts=[53760, 3], positions=[8960, 3], cell=[3840, 3], node_attrs=[8960, 2], graph_labels=[1280, 1], n_system=[1280, 1], weight=[1280], batch=[8960], ptr=[1281])"
      ]
     },
     "execution_count": 68,
     "metadata": {},
     "output_type": "execute_result"
    }
   ],
   "source": [
    "datamodule_graph.setup()\n",
    "a = datamodule_graph.train_dataloader()\n",
    "list(a)\n",
    "test = next(iter(a))\n",
    "inp = test['data_list']\n",
    "inp"
   ]
  },
  {
   "cell_type": "code",
   "execution_count": 6,
   "metadata": {},
   "outputs": [
    {
     "data": {
      "text/plain": [
       "Data(edge_index=[2, 42], shifts=[42, 3], unit_shifts=[42, 3], positions=[7, 3], cell=[3, 3], node_attrs=[7, 2], graph_labels=[1, 1], n_system=[1, 1], weight=[1], batch=[1])"
      ]
     },
     "execution_count": 6,
     "metadata": {},
     "output_type": "execute_result"
    }
   ],
   "source": [
    "import torch\n",
    "xxx = inp.get_example(0)\n",
    "xxx.batch = torch.tensor([0], dtype = torch.long)\n",
    "xxx"
   ]
  },
  {
   "cell_type": "code",
   "execution_count": 7,
   "metadata": {},
   "outputs": [
    {
     "name": "stderr",
     "output_type": "stream",
     "text": [
      "/home/etrizio@iit.local/Bin/dev/mlcolvar/mlcolvar/data/graph/utils.py:69: UserWarning: To copy construct from a tensor, it is recommended to use sourceTensor.clone().detach() or sourceTensor.clone().detach().requires_grad_(True), rather than torch.tensor(sourceTensor).\n",
      "  torch.tensor(config.graph_labels, dtype=torch.get_default_dtype())\n",
      "/home/etrizio@iit.local/Bin/dev/mlcolvar/mlcolvar/data/datamodule.py:301: UserWarning: Length of split at index 1 is 0. This might result in an empty dataset.\n",
      "  warnings.warn(\n"
     ]
    }
   ],
   "source": [
    "# model_graph.eval()\n",
    "traced_model = model_graph.to_torchscript('test.pt', method='trace')"
   ]
  },
  {
   "cell_type": "code",
   "execution_count": 8,
   "metadata": {},
   "outputs": [
    {
     "name": "stdout",
     "output_type": "stream",
     "text": [
      "tensor([[0.3392]], grad_fn=<DivBackward0>)\n"
     ]
    }
   ],
   "source": [
    "print(model_graph(xxx))"
   ]
  },
  {
   "cell_type": "code",
   "execution_count": 9,
   "metadata": {},
   "outputs": [
    {
     "data": {
      "text/plain": [
       "torch_geometric.data.batch.DataBatch"
      ]
     },
     "execution_count": 9,
     "metadata": {},
     "output_type": "execute_result"
    }
   ],
   "source": [
    "type(inp)"
   ]
  },
  {
   "cell_type": "code",
   "execution_count": 10,
   "metadata": {},
   "outputs": [
    {
     "name": "stdout",
     "output_type": "stream",
     "text": [
      "tensor([[0.3392]], grad_fn=<DivBackward0>)\n",
      "tensor([[0.2707]], grad_fn=<DivBackward0>)\n",
      "tensor([[0.3392]], grad_fn=<DivBackward0>)\n",
      "tensor([[0.2707]], grad_fn=<DivBackward0>)\n",
      "tensor([[0.3392]], grad_fn=<DivBackward0>)\n",
      "tensor([[0.2707]], grad_fn=<DivBackward0>)\n"
     ]
    }
   ],
   "source": [
    "test = inp.get_example(100)\n",
    "test.batch = torch.tensor([0], dtype = torch.long)\n",
    "\n",
    "print(model_graph(xxx))\n",
    "print(model_graph(test))\n",
    "\n",
    "print(traced_model(xxx))\n",
    "print(traced_model(test))\n",
    "\n",
    "\n",
    "loaded_model = torch.jit.load('test.pt')\n",
    "\n",
    "print(loaded_model(xxx))\n",
    "print(loaded_model(test))\n",
    "\n",
    "\n",
    "# EVVIVAAAAAA"
   ]
  },
  {
   "cell_type": "code",
   "execution_count": 11,
   "metadata": {},
   "outputs": [
    {
     "data": {
      "text/plain": [
       "[{'data_list': DataBatch(edge_index=[2, 53760], shifts=[53760, 3], unit_shifts=[53760, 3], positions=[8960, 3], cell=[3840, 3], node_attrs=[8960, 2], graph_labels=[1280, 1], n_system=[1280, 1], weight=[1280], batch=[8960], ptr=[1281])}]"
      ]
     },
     "execution_count": 11,
     "metadata": {},
     "output_type": "execute_result"
    }
   ],
   "source": [
    "datamodule_ff.setup()\n",
    "\n",
    "a = datamodule_ff.train_dataloader()\n",
    "a.dataset['data']\n",
    "\n",
    "datamodule_graph.setup()\n",
    "a = datamodule_graph.train_dataloader()\n",
    "list(a)\n"
   ]
  },
  {
   "cell_type": "code",
   "execution_count": 72,
   "metadata": {},
   "outputs": [
    {
     "name": "stderr",
     "output_type": "stream",
     "text": [
      "GPU available: True (cuda), used: False\n",
      "TPU available: False, using: 0 TPU cores\n",
      "IPU available: False, using: 0 IPUs\n",
      "HPU available: False, using: 0 HPUs\n",
      "/home/etrizio@iit.local/Bin/miniconda3/envs/graph_mlcolvar_test/lib/python3.9/site-packages/lightning/pytorch/trainer/setup.py:187: GPU available but not used. You can set it by doing `Trainer(accelerator='gpu')`.\n"
     ]
    },
    {
     "data": {
      "application/vnd.jupyter.widget-view+json": {
       "model_id": "6e424342ecd94f51abdd1c89a3caa7fb",
       "version_major": 2,
       "version_minor": 0
      },
      "text/plain": [
       "Sanity Checking: |          | 0/? [00:00<?, ?it/s]"
      ]
     },
     "metadata": {},
     "output_type": "display_data"
    },
    {
     "data": {
      "application/vnd.jupyter.widget-view+json": {
       "model_id": "7db717f5ec9f4d0d90c87df77da4fe73",
       "version_major": 2,
       "version_minor": 0
      },
      "text/plain": [
       "Training: |          | 0/? [00:00<?, ?it/s]"
      ]
     },
     "metadata": {},
     "output_type": "display_data"
    },
    {
     "data": {
      "application/vnd.jupyter.widget-view+json": {
       "model_id": "6684317b85ec4995969e73b79a38864e",
       "version_major": 2,
       "version_minor": 0
      },
      "text/plain": [
       "Validation: |          | 0/? [00:00<?, ?it/s]"
      ]
     },
     "metadata": {},
     "output_type": "display_data"
    },
    {
     "data": {
      "application/vnd.jupyter.widget-view+json": {
       "model_id": "df7b57914fd64239a24056c1da91e952",
       "version_major": 2,
       "version_minor": 0
      },
      "text/plain": [
       "Validation: |          | 0/? [00:00<?, ?it/s]"
      ]
     },
     "metadata": {},
     "output_type": "display_data"
    },
    {
     "data": {
      "application/vnd.jupyter.widget-view+json": {
       "model_id": "a28ecbc158e4420dbf45ce80cc7dbf79",
       "version_major": 2,
       "version_minor": 0
      },
      "text/plain": [
       "Validation: |          | 0/? [00:00<?, ?it/s]"
      ]
     },
     "metadata": {},
     "output_type": "display_data"
    },
    {
     "data": {
      "application/vnd.jupyter.widget-view+json": {
       "model_id": "a373af0d1e6a41588c11b2ca2388ad8f",
       "version_major": 2,
       "version_minor": 0
      },
      "text/plain": [
       "Validation: |          | 0/? [00:00<?, ?it/s]"
      ]
     },
     "metadata": {},
     "output_type": "display_data"
    },
    {
     "data": {
      "application/vnd.jupyter.widget-view+json": {
       "model_id": "648f1feebaef48c8b264b663f0f2341d",
       "version_major": 2,
       "version_minor": 0
      },
      "text/plain": [
       "Validation: |          | 0/? [00:00<?, ?it/s]"
      ]
     },
     "metadata": {},
     "output_type": "display_data"
    },
    {
     "name": "stderr",
     "output_type": "stream",
     "text": [
      "`Trainer.fit` stopped: `max_epochs=5` reached.\n"
     ]
    }
   ],
   "source": [
    "trainer = Trainer(\n",
    "    logger=False,\n",
    "    enable_checkpointing=True,\n",
    "    accelerator='cpu',\n",
    "    max_epochs=5,\n",
    "    enable_model_summary=False\n",
    ")\n",
    "\n",
    "trainer.fit(model_ff, datamodule_ff)"
   ]
  },
  {
   "cell_type": "code",
   "execution_count": 70,
   "metadata": {},
   "outputs": [],
   "source": [
    "loader = datamodule_graph\n",
    "test = next(iter(loader.train_dataloader()))['data_list']\n",
    "out_graph = model_graph(test)\n",
    "\n",
    "out_ff = model_ff(dataset_ff['data'])"
   ]
  },
  {
   "cell_type": "code",
   "execution_count": 71,
   "metadata": {},
   "outputs": [
    {
     "data": {
      "image/png": "[encoded data removed]",
      "text/plain": [
       "<Figure size 640x480 with 1 Axes>"
      ]
     },
     "metadata": {},
     "output_type": "display_data"
    }
   ],
   "source": [
    "import matplotlib.pyplot as plt\n",
    "\n",
    "plt.hist(out_graph.detach().squeeze())\n",
    "plt.hist(out_ff.detach().squeeze())\n",
    "plt.show()"
   ]
  },
  {
   "cell_type": "code",
   "execution_count": 74,
   "metadata": {},
   "outputs": [
    {
     "data": {
      "text/plain": [
       "{'epoch': 4,\n",
       " 'global_step': 5,\n",
       " 'pytorch-lightning_version': '2.1.3',\n",
       " 'state_dict': OrderedDict([('loss_fn.target_centers', tensor([-7.,  7.])),\n",
       "              ('loss_fn.target_sigmas', tensor([0.2000, 0.2000])),\n",
       "              ('nn.nn.0.weight',\n",
       "               tensor([[ 0.1091, -0.1932, -0.1206, -0.0681,  0.1556,  0.1799,  0.1149, -0.2043,\n",
       "                        -0.0908, -0.0390, -0.0684, -0.0457,  0.0788,  0.1463, -0.1411, -0.1737,\n",
       "                         0.1678,  0.1805,  0.2164, -0.1644, -0.0258],\n",
       "                       [ 0.1690,  0.1007, -0.0752,  0.1875,  0.1510,  0.0228,  0.1875,  0.2199,\n",
       "                         0.0580,  0.1580,  0.1729,  0.1864, -0.0042,  0.1831,  0.1117,  0.0253,\n",
       "                         0.0455,  0.2125, -0.1677,  0.0447, -0.1825],\n",
       "                       [ 0.0161,  0.1482, -0.0858, -0.0592,  0.0975, -0.1783,  0.0376,  0.1408,\n",
       "                         0.1791,  0.1822, -0.1982,  0.2098, -0.0159, -0.0619, -0.0960, -0.0942,\n",
       "                        -0.1535,  0.0209, -0.1388, -0.1435,  0.1325],\n",
       "                       [-0.1178,  0.0437,  0.0124, -0.1600,  0.0760,  0.1467, -0.0989,  0.0063,\n",
       "                        -0.1764, -0.1864, -0.0645, -0.0613,  0.0868, -0.2056,  0.0756,  0.0821,\n",
       "                        -0.0335, -0.1973, -0.1012, -0.1909,  0.0805],\n",
       "                       [-0.2068, -0.0470,  0.0194, -0.0922, -0.1448, -0.1430,  0.0428, -0.0748,\n",
       "                         0.1746, -0.1001,  0.0089, -0.0171, -0.0882,  0.1353, -0.1607, -0.1919,\n",
       "                        -0.1167, -0.1318,  0.0544,  0.0299, -0.0761],\n",
       "                       [ 0.0451,  0.1221,  0.0529,  0.1372,  0.1856, -0.1394, -0.0864,  0.1279,\n",
       "                        -0.0794,  0.0893, -0.0387,  0.0769, -0.0881, -0.0817,  0.0155, -0.1930,\n",
       "                         0.0596, -0.1755,  0.0113,  0.0951, -0.0341],\n",
       "                       [ 0.1832,  0.0194,  0.1026, -0.1198, -0.0984,  0.1239, -0.0472, -0.2238,\n",
       "                         0.1610,  0.1594,  0.0977, -0.1394,  0.1871, -0.1873,  0.0732,  0.0750,\n",
       "                         0.0214,  0.0256, -0.0510,  0.0816,  0.2049],\n",
       "                       [-0.1987, -0.0250, -0.0757,  0.0912, -0.0272, -0.1131, -0.1551,  0.2095,\n",
       "                         0.0775,  0.1406,  0.1878,  0.0675,  0.1871, -0.1933, -0.0769,  0.1693,\n",
       "                         0.2012, -0.1832,  0.1627, -0.1376, -0.1235],\n",
       "                       [-0.0159, -0.0251, -0.2143, -0.1840, -0.0242,  0.1255, -0.1588, -0.1978,\n",
       "                        -0.0974,  0.2079, -0.0857, -0.1865, -0.0769,  0.1807, -0.0904, -0.2169,\n",
       "                         0.1189, -0.1440,  0.1711,  0.0855,  0.1139],\n",
       "                       [ 0.1700,  0.0159,  0.0643, -0.1504, -0.1127,  0.0806, -0.0737, -0.1117,\n",
       "                        -0.0987, -0.1546,  0.0140, -0.0475,  0.1823, -0.0481,  0.1926,  0.0935,\n",
       "                         0.1058,  0.0454,  0.0127,  0.0891, -0.0544],\n",
       "                       [-0.0002, -0.0582, -0.0854,  0.2017,  0.0692,  0.1184,  0.1207,  0.1331,\n",
       "                         0.0864, -0.0704,  0.1787,  0.0275, -0.1465,  0.0042,  0.1829, -0.0312,\n",
       "                        -0.2200,  0.0996, -0.2029,  0.1268, -0.1038],\n",
       "                       [ 0.0136, -0.0978,  0.1791,  0.0506, -0.0822,  0.0442, -0.1463,  0.1748,\n",
       "                        -0.1854,  0.1354, -0.0795,  0.0344,  0.2072, -0.0770, -0.0250,  0.0210,\n",
       "                        -0.1289, -0.0499, -0.0376,  0.1949,  0.0601],\n",
       "                       [ 0.1683, -0.1752, -0.1138,  0.1663, -0.0030, -0.0636, -0.1552,  0.1392,\n",
       "                         0.1685, -0.1308, -0.1843, -0.1079, -0.1469, -0.0323, -0.0278, -0.2174,\n",
       "                        -0.1844, -0.0565,  0.0696,  0.0376, -0.0199],\n",
       "                       [ 0.1238, -0.1107, -0.1061, -0.0396, -0.1200, -0.1036,  0.1609, -0.1744,\n",
       "                         0.2047,  0.0651,  0.0231,  0.0436, -0.2161,  0.1388,  0.2217,  0.0804,\n",
       "                        -0.1238, -0.0067, -0.2067,  0.2264, -0.1849],\n",
       "                       [-0.1626,  0.1413, -0.0193,  0.1994, -0.1003,  0.1011,  0.0298, -0.1755,\n",
       "                         0.0680,  0.0070,  0.2111,  0.0611, -0.1107,  0.2134,  0.0470, -0.0835,\n",
       "                        -0.0261,  0.1392, -0.1695,  0.2148,  0.1370]])),\n",
       "              ('nn.nn.0.bias',\n",
       "               tensor([ 0.0900,  0.0308, -0.1071, -0.1334,  0.0102,  0.0913,  0.0692,  0.1084,\n",
       "                       -0.0914,  0.1140,  0.0671,  0.1281,  0.0583,  0.0690,  0.1046])),\n",
       "              ('nn.nn.2.weight',\n",
       "               tensor([[ 0.0915, -0.0500,  0.0047,  0.2131, -0.0152,  0.2466, -0.0150,  0.2662,\n",
       "                        -0.0901, -0.0439,  0.0211,  0.1409, -0.0744,  0.0863,  0.0169],\n",
       "                       [ 0.2359, -0.1307,  0.1628, -0.0547, -0.2153,  0.0409, -0.1520, -0.2040,\n",
       "                         0.0957, -0.2015, -0.1916,  0.0876, -0.2271,  0.0377,  0.1216],\n",
       "                       [-0.1357, -0.2273, -0.1212,  0.0699,  0.1139,  0.0471,  0.1090,  0.1206,\n",
       "                         0.0937, -0.2334,  0.2370, -0.2110, -0.2154,  0.1292,  0.2160],\n",
       "                       [ 0.1417, -0.0689,  0.1739,  0.1697,  0.0167,  0.1179, -0.2494,  0.1554,\n",
       "                         0.1904, -0.1728, -0.2117, -0.1294, -0.0025,  0.0746,  0.2042],\n",
       "                       [-0.2106, -0.0038, -0.2492,  0.1139, -0.1676,  0.1174, -0.1071,  0.0586,\n",
       "                        -0.2236, -0.0618,  0.2575,  0.2394, -0.1630, -0.0699, -0.0600],\n",
       "                       [-0.0289, -0.1661,  0.1261,  0.1911, -0.1126,  0.0430, -0.0270,  0.2116,\n",
       "                         0.0193, -0.0740, -0.0703, -0.0849, -0.0675,  0.1081,  0.1828],\n",
       "                       [-0.0442,  0.2096,  0.0064,  0.0248, -0.1210, -0.2544,  0.1305, -0.0803,\n",
       "                        -0.0339, -0.1462, -0.2000, -0.0745,  0.0805, -0.1077, -0.1239],\n",
       "                       [ 0.2284, -0.2315, -0.0981,  0.1649, -0.2322, -0.0236, -0.2408, -0.1701,\n",
       "                         0.1063,  0.2036,  0.1024,  0.2182, -0.0476, -0.2530,  0.1508],\n",
       "                       [-0.0808, -0.2526,  0.0910, -0.0245, -0.2045, -0.1999, -0.0636, -0.0950,\n",
       "                         0.0953, -0.0798, -0.2545,  0.1149,  0.0773,  0.0743,  0.1952],\n",
       "                       [ 0.0481,  0.0103, -0.0342, -0.1739, -0.0711,  0.1968, -0.1936, -0.1705,\n",
       "                         0.0499,  0.0205,  0.2502,  0.0007, -0.1033, -0.2411, -0.1898]])),\n",
       "              ('nn.nn.2.bias',\n",
       "               tensor([ 0.0205,  0.1057,  0.2199, -0.1365, -0.2577, -0.1165,  0.0104, -0.1540,\n",
       "                        0.2311, -0.1104])),\n",
       "              ('nn.nn.4.weight',\n",
       "               tensor([[-0.0132,  0.1431,  0.2450,  0.0389,  0.1609, -0.1307, -0.0078,  0.1824,\n",
       "                         0.0553,  0.2282]])),\n",
       "              ('nn.nn.4.bias', tensor([0.1878]))]),\n",
       " 'loops': {'fit_loop': {'state_dict': {},\n",
       "   'epoch_loop.state_dict': {'_batches_that_stepped': 5},\n",
       "   'epoch_loop.batch_progress': {'total': {'ready': 5,\n",
       "     'completed': 5,\n",
       "     'started': 5,\n",
       "     'processed': 5},\n",
       "    'current': {'ready': 1, 'completed': 1, 'started': 1, 'processed': 1},\n",
       "    'is_last_batch': True},\n",
       "   'epoch_loop.scheduler_progress': {'total': {'ready': 0, 'completed': 0},\n",
       "    'current': {'ready': 0, 'completed': 0}},\n",
       "   'epoch_loop.automatic_optimization.state_dict': {},\n",
       "   'epoch_loop.automatic_optimization.optim_progress': {'optimizer': {'step': {'total': {'ready': 5,\n",
       "       'completed': 5},\n",
       "      'current': {'ready': 1, 'completed': 1}},\n",
       "     'zero_grad': {'total': {'ready': 5, 'completed': 5, 'started': 5},\n",
       "      'current': {'ready': 1, 'completed': 1, 'started': 1}}}},\n",
       "   'epoch_loop.manual_optimization.state_dict': {},\n",
       "   'epoch_loop.manual_optimization.optim_step_progress': {'total': {'ready': 0,\n",
       "     'completed': 0},\n",
       "    'current': {'ready': 0, 'completed': 0}},\n",
       "   'epoch_loop.val_loop.state_dict': {},\n",
       "   'epoch_loop.val_loop.batch_progress': {'total': {'ready': 1,\n",
       "     'completed': 1,\n",
       "     'started': 1,\n",
       "     'processed': 1},\n",
       "    'current': {'ready': 1, 'completed': 1, 'started': 1, 'processed': 1},\n",
       "    'is_last_batch': True},\n",
       "   'epoch_progress': {'total': {'ready': 5,\n",
       "     'completed': 4,\n",
       "     'started': 5,\n",
       "     'processed': 5},\n",
       "    'current': {'ready': 5, 'completed': 4, 'started': 5, 'processed': 5}}},\n",
       "  'validate_loop': {'state_dict': {},\n",
       "   'batch_progress': {'total': {'ready': 0,\n",
       "     'completed': 0,\n",
       "     'started': 0,\n",
       "     'processed': 0},\n",
       "    'current': {'ready': 0, 'completed': 0, 'started': 0, 'processed': 0},\n",
       "    'is_last_batch': False}},\n",
       "  'test_loop': {'state_dict': {},\n",
       "   'batch_progress': {'total': {'ready': 0,\n",
       "     'completed': 0,\n",
       "     'started': 0,\n",
       "     'processed': 0},\n",
       "    'current': {'ready': 0, 'completed': 0, 'started': 0, 'processed': 0},\n",
       "    'is_last_batch': False}},\n",
       "  'predict_loop': {'state_dict': {},\n",
       "   'batch_progress': {'total': {'ready': 0,\n",
       "     'completed': 0,\n",
       "     'started': 0,\n",
       "     'processed': 0},\n",
       "    'current': {'ready': 0, 'completed': 0, 'started': 0, 'processed': 0}}}},\n",
       " 'callbacks': {\"ModelCheckpoint{'monitor': None, 'mode': 'min', 'every_n_train_steps': 0, 'every_n_epochs': 1, 'train_time_interval': None}\": {'monitor': None,\n",
       "   'best_model_score': None,\n",
       "   'best_model_path': '/home/etrizio@iit.local/Bin/dev/mlcolvar/test_graphs/checkpoints/epoch=4-step=5.ckpt',\n",
       "   'current_score': None,\n",
       "   'dirpath': '/home/etrizio@iit.local/Bin/dev/mlcolvar/test_graphs/checkpoints',\n",
       "   'best_k_models': {},\n",
       "   'kth_best_model_path': '',\n",
       "   'kth_value': tensor(inf),\n",
       "   'last_model_path': ''}},\n",
       " 'optimizer_states': [{'state': {0: {'step': tensor(5.),\n",
       "     'exp_avg': tensor([[-3.5984e-04, -4.0911e-05, -8.8112e-06, -2.7854e-03,  1.7126e-04,\n",
       "              -3.3620e-04, -4.5149e-04, -1.1946e-03,  1.8959e-03, -4.6310e-04,\n",
       "              -3.4691e-04, -2.7802e-04, -3.7837e-03,  1.0556e-03, -8.9433e-05,\n",
       "              -1.7654e-03, -1.1040e-03, -1.9409e-03,  1.0916e-03,  2.0371e-03,\n",
       "              -3.0389e-04],\n",
       "             [-8.1956e-03, -9.4709e-04, -2.1276e-04, -6.3275e-02,  3.8211e-03,\n",
       "              -7.6471e-03, -1.0253e-02, -2.7176e-02,  4.3028e-02, -1.0535e-02,\n",
       "              -7.8866e-03, -6.3373e-03, -8.5962e-02,  2.3908e-02, -1.9752e-03,\n",
       "              -4.0119e-02, -2.5120e-02, -4.4181e-02,  2.4700e-02,  4.6257e-02,\n",
       "              -6.9061e-03],\n",
       "             [ 0.0000e+00,  0.0000e+00,  0.0000e+00,  0.0000e+00,  0.0000e+00,\n",
       "               0.0000e+00,  0.0000e+00,  0.0000e+00,  0.0000e+00,  0.0000e+00,\n",
       "               0.0000e+00,  0.0000e+00,  0.0000e+00,  0.0000e+00,  0.0000e+00,\n",
       "               0.0000e+00,  0.0000e+00,  0.0000e+00,  0.0000e+00,  0.0000e+00,\n",
       "               0.0000e+00],\n",
       "             [ 0.0000e+00,  0.0000e+00,  0.0000e+00,  0.0000e+00,  0.0000e+00,\n",
       "               0.0000e+00,  0.0000e+00,  0.0000e+00,  0.0000e+00,  0.0000e+00,\n",
       "               0.0000e+00,  0.0000e+00,  0.0000e+00,  0.0000e+00,  0.0000e+00,\n",
       "               0.0000e+00,  0.0000e+00,  0.0000e+00,  0.0000e+00,  0.0000e+00,\n",
       "               0.0000e+00],\n",
       "             [ 0.0000e+00,  0.0000e+00,  0.0000e+00,  0.0000e+00,  0.0000e+00,\n",
       "               0.0000e+00,  0.0000e+00,  0.0000e+00,  0.0000e+00,  0.0000e+00,\n",
       "               0.0000e+00,  0.0000e+00,  0.0000e+00,  0.0000e+00,  0.0000e+00,\n",
       "               0.0000e+00,  0.0000e+00,  0.0000e+00,  0.0000e+00,  0.0000e+00,\n",
       "               0.0000e+00],\n",
       "             [ 2.7277e-04,  3.1460e-05,  7.0329e-06,  2.1066e-03, -1.2749e-04,\n",
       "               2.5455e-04,  3.4137e-04,  9.0460e-04, -1.4327e-03,  3.5068e-04,\n",
       "               2.6254e-04,  2.1090e-04,  2.8619e-03, -7.9626e-04,  6.5984e-05,\n",
       "               1.3356e-03,  8.3614e-04,  1.4705e-03, -8.2272e-04, -1.5401e-03,\n",
       "               2.2991e-04],\n",
       "             [ 3.0178e-04,  3.5688e-05,  8.4767e-06,  2.3212e-03, -1.3647e-04,\n",
       "               2.8104e-04,  3.7597e-04,  9.9900e-04, -1.5762e-03,  3.8727e-04,\n",
       "               2.8963e-04,  2.3364e-04,  3.1539e-03, -8.7324e-04,  6.9448e-05,\n",
       "               1.4726e-03,  9.2364e-04,  1.6255e-03, -9.0095e-04, -1.6959e-03,\n",
       "               2.5348e-04],\n",
       "             [-5.7066e-04, -6.4770e-05, -1.3887e-05, -4.4184e-03,  2.7217e-04,\n",
       "              -5.3324e-04, -7.1621e-04, -1.8946e-03,  3.0078e-03, -7.3451e-04,\n",
       "              -5.5025e-04, -4.4086e-04, -6.0020e-03,  1.6750e-03, -1.4227e-04,\n",
       "              -2.8003e-03, -1.7510e-03, -3.0783e-03,  1.7322e-03,  3.2315e-03,\n",
       "              -4.8204e-04],\n",
       "             [ 0.0000e+00,  0.0000e+00,  0.0000e+00,  0.0000e+00,  0.0000e+00,\n",
       "               0.0000e+00,  0.0000e+00,  0.0000e+00,  0.0000e+00,  0.0000e+00,\n",
       "               0.0000e+00,  0.0000e+00,  0.0000e+00,  0.0000e+00,  0.0000e+00,\n",
       "               0.0000e+00,  0.0000e+00,  0.0000e+00,  0.0000e+00,  0.0000e+00,\n",
       "               0.0000e+00],\n",
       "             [-8.4292e-03, -9.7425e-04, -2.1896e-04, -6.5077e-02,  3.9291e-03,\n",
       "              -7.8649e-03, -1.0545e-02, -2.7950e-02,  4.4253e-02, -1.0835e-02,\n",
       "              -8.1112e-03, -6.5180e-03, -8.8410e-02,  2.4588e-02, -2.0308e-03,\n",
       "              -4.1262e-02, -2.5835e-02, -4.5440e-02,  2.5402e-02,  4.7574e-02,\n",
       "              -7.1027e-03],\n",
       "             [ 1.7536e-03,  2.0391e-04,  4.6520e-05,  1.3525e-02, -8.1100e-04,\n",
       "               1.6354e-03,  2.1914e-03,  5.8120e-03, -9.1938e-03,  2.2531e-03,\n",
       "               1.6863e-03,  1.3564e-03,  1.8375e-02, -5.1044e-03,  4.1752e-04,\n",
       "               8.5767e-03,  5.3726e-03,  9.4510e-03, -5.2716e-03, -9.8859e-03,\n",
       "               1.4764e-03],\n",
       "             [-3.1876e-03, -3.6807e-04, -8.2524e-05, -2.4613e-02,  1.4876e-03,\n",
       "              -2.9744e-03, -3.9884e-03, -1.0570e-02,  1.6738e-02, -4.0977e-03,\n",
       "              -3.0677e-03, -2.4647e-03, -3.3438e-02,  9.3013e-03, -7.6937e-04,\n",
       "              -1.5605e-02, -9.7704e-03, -1.7184e-02,  9.6098e-03,  1.7994e-02,\n",
       "              -2.6863e-03],\n",
       "             [ 0.0000e+00,  0.0000e+00,  0.0000e+00,  0.0000e+00,  0.0000e+00,\n",
       "               0.0000e+00,  0.0000e+00,  0.0000e+00,  0.0000e+00,  0.0000e+00,\n",
       "               0.0000e+00,  0.0000e+00,  0.0000e+00,  0.0000e+00,  0.0000e+00,\n",
       "               0.0000e+00,  0.0000e+00,  0.0000e+00,  0.0000e+00,  0.0000e+00,\n",
       "               0.0000e+00],\n",
       "             [ 1.5152e-04, -2.9981e-03, -3.3844e-03,  2.2486e-02, -7.5181e-03,\n",
       "              -1.9135e-03, -1.2430e-03,  6.0865e-03, -2.3053e-02,  1.0649e-03,\n",
       "               3.3099e-04, -3.1508e-03,  2.9949e-02, -1.8428e-02, -5.0736e-03,\n",
       "               1.0704e-02,  3.3760e-03,  1.1371e-02, -1.7308e-02, -2.6344e-02,\n",
       "              -2.4798e-03],\n",
       "             [ 7.5502e-03,  8.7246e-04,  1.9596e-04,  5.8293e-02, -3.5205e-03,\n",
       "               7.0449e-03,  9.4460e-03,  2.5036e-02, -3.9640e-02,  9.7055e-03,\n",
       "               7.2656e-03,  5.8383e-03,  7.9194e-02, -2.2026e-02,  1.8198e-03,\n",
       "               3.6960e-02,  2.3142e-02,  4.0702e-02, -2.2756e-02, -4.2615e-02,\n",
       "               6.3623e-03]]),\n",
       "     'exp_avg_sq': tensor([[3.7763e-09, 4.8915e-11, 2.4611e-12, 2.2653e-07, 8.7240e-10, 3.2982e-09,\n",
       "              5.9526e-09, 4.1636e-08, 1.0501e-07, 6.2576e-09, 3.5125e-09, 2.2536e-09,\n",
       "              4.1799e-07, 3.2594e-08, 2.4217e-10, 9.0979e-08, 3.5560e-08, 1.0989e-07,\n",
       "              3.4875e-08, 1.2118e-07, 2.6959e-09],\n",
       "             [1.9973e-06, 2.7624e-08, 1.6194e-09, 1.1857e-04, 4.2549e-07, 1.7351e-06,\n",
       "              3.1119e-06, 2.1919e-05, 5.4749e-05, 3.2940e-06, 1.8441e-06, 1.1959e-06,\n",
       "              2.1886e-04, 1.6856e-05, 1.1384e-07, 4.7692e-05, 1.8732e-05, 5.7986e-05,\n",
       "              1.7971e-05, 6.3328e-05, 1.4132e-06],\n",
       "             [0.0000e+00, 0.0000e+00, 0.0000e+00, 0.0000e+00, 0.0000e+00, 0.0000e+00,\n",
       "              0.0000e+00, 0.0000e+00, 0.0000e+00, 0.0000e+00, 0.0000e+00, 0.0000e+00,\n",
       "              0.0000e+00, 0.0000e+00, 0.0000e+00, 0.0000e+00, 0.0000e+00, 0.0000e+00,\n",
       "              0.0000e+00, 0.0000e+00, 0.0000e+00],\n",
       "             [0.0000e+00, 0.0000e+00, 0.0000e+00, 0.0000e+00, 0.0000e+00, 0.0000e+00,\n",
       "              0.0000e+00, 0.0000e+00, 0.0000e+00, 0.0000e+00, 0.0000e+00, 0.0000e+00,\n",
       "              0.0000e+00, 0.0000e+00, 0.0000e+00, 0.0000e+00, 0.0000e+00, 0.0000e+00,\n",
       "              0.0000e+00, 0.0000e+00, 0.0000e+00],\n",
       "             [0.0000e+00, 0.0000e+00, 0.0000e+00, 0.0000e+00, 0.0000e+00, 0.0000e+00,\n",
       "              0.0000e+00, 0.0000e+00, 0.0000e+00, 0.0000e+00, 0.0000e+00, 0.0000e+00,\n",
       "              0.0000e+00, 0.0000e+00, 0.0000e+00, 0.0000e+00, 0.0000e+00, 0.0000e+00,\n",
       "              0.0000e+00, 0.0000e+00, 0.0000e+00],\n",
       "             [2.2000e-09, 3.0197e-11, 1.7421e-12, 1.3077e-07, 4.7342e-10, 1.9124e-09,\n",
       "              3.4326e-09, 2.4157e-08, 6.0411e-08, 3.6304e-09, 2.0330e-09, 1.3168e-09,\n",
       "              2.4137e-07, 1.8618e-08, 1.2727e-10, 5.2589e-08, 2.0644e-08, 6.3890e-08,\n",
       "              1.9857e-08, 6.9857e-08, 1.5583e-09],\n",
       "             [3.0865e-09, 4.6301e-11, 3.1668e-12, 1.8069e-07, 5.8446e-10, 2.6620e-09,\n",
       "              4.7344e-09, 3.3663e-08, 8.2994e-08, 5.0582e-09, 2.8217e-09, 1.8561e-09,\n",
       "              3.3370e-07, 2.5266e-08, 1.4693e-10, 7.2829e-08, 2.8793e-08, 8.9334e-08,\n",
       "              2.6800e-08, 9.6300e-08, 2.1577e-09],\n",
       "             [9.5133e-09, 1.2241e-10, 6.0525e-12, 5.7125e-07, 2.2145e-09, 8.3133e-09,\n",
       "              1.5013e-08, 1.0494e-07, 2.6490e-07, 1.5772e-08, 8.8550e-09, 5.6754e-09,\n",
       "              1.0540e-06, 8.2289e-08, 6.1673e-10, 2.2939e-07, 8.9618e-08, 2.7691e-07,\n",
       "              8.8079e-08, 3.0564e-07, 6.7975e-09],\n",
       "             [0.0000e+00, 0.0000e+00, 0.0000e+00, 0.0000e+00, 0.0000e+00, 0.0000e+00,\n",
       "              0.0000e+00, 0.0000e+00, 0.0000e+00, 0.0000e+00, 0.0000e+00, 0.0000e+00,\n",
       "              0.0000e+00, 0.0000e+00, 0.0000e+00, 0.0000e+00, 0.0000e+00, 0.0000e+00,\n",
       "              0.0000e+00, 0.0000e+00, 0.0000e+00],\n",
       "             [2.1139e-06, 2.9258e-08, 1.7177e-09, 1.2548e-04, 4.4993e-07, 1.8363e-06,\n",
       "              3.2932e-06, 2.3198e-05, 5.7938e-05, 3.4862e-06, 1.9516e-06, 1.2658e-06,\n",
       "              2.3162e-04, 1.7837e-05, 1.2032e-07, 5.0473e-05, 1.9826e-05, 6.1372e-05,\n",
       "              1.9015e-05, 6.7018e-05, 1.4956e-06],\n",
       "             [9.3667e-08, 1.3272e-09, 8.1737e-11, 5.5382e-06, 1.9311e-08, 8.1203e-08,\n",
       "              1.4529e-07, 1.0261e-06, 2.5534e-06, 1.5420e-07, 8.6235e-08, 5.6155e-08,\n",
       "              1.0224e-05, 7.8365e-07, 5.0832e-09, 2.2290e-06, 8.7714e-07, 2.7170e-06,\n",
       "              8.3424e-07, 2.9562e-06, 6.6045e-08],\n",
       "             [3.0141e-07, 4.1560e-09, 2.4205e-10, 1.7902e-05, 6.4473e-08, 2.6192e-07,\n",
       "              4.6989e-07, 3.3086e-06, 8.2681e-06, 4.9722e-07, 2.7839e-07, 1.8045e-07,\n",
       "              3.3045e-05, 2.5466e-06, 1.7283e-08, 7.2004e-06, 2.8275e-06, 8.7519e-06,\n",
       "              2.7154e-06, 9.5626e-06, 2.1336e-07],\n",
       "             [0.0000e+00, 0.0000e+00, 0.0000e+00, 0.0000e+00, 0.0000e+00, 0.0000e+00,\n",
       "              0.0000e+00, 0.0000e+00, 0.0000e+00, 0.0000e+00, 0.0000e+00, 0.0000e+00,\n",
       "              0.0000e+00, 0.0000e+00, 0.0000e+00, 0.0000e+00, 0.0000e+00, 0.0000e+00,\n",
       "              0.0000e+00, 0.0000e+00, 0.0000e+00],\n",
       "             [2.1475e-07, 4.0900e-07, 4.7883e-07, 1.6241e-05, 2.0259e-06, 5.3709e-07,\n",
       "              5.6838e-07, 1.9295e-06, 1.5508e-05, 2.8227e-07, 1.7979e-07, 7.9329e-07,\n",
       "              2.9158e-05, 1.0315e-05, 1.1692e-06, 4.6807e-06, 1.5095e-06, 5.6349e-06,\n",
       "              8.9746e-06, 2.0288e-05, 6.1525e-07],\n",
       "             [1.6948e-06, 2.3435e-08, 1.3731e-09, 1.0061e-04, 3.6116e-07, 1.4723e-06,\n",
       "              2.6407e-06, 1.8599e-05, 4.6460e-05, 2.7951e-06, 1.5648e-06, 1.0148e-06,\n",
       "              1.8572e-04, 1.4305e-05, 9.6640e-08, 4.0470e-05, 1.5896e-05, 4.9205e-05,\n",
       "              1.5250e-05, 5.3739e-05, 1.1992e-06]])},\n",
       "    1: {'step': tensor(5.),\n",
       "     'exp_avg': tensor([-0.0014, -0.0330,  0.0000,  0.0000,  0.0000,  0.0011,  0.0012, -0.0023,\n",
       "              0.0000, -0.0339,  0.0071, -0.0128,  0.0000, -0.0087,  0.0304]),\n",
       "     'exp_avg_sq': tensor([6.1061e-08, 3.2349e-05, 0.0000e+00, 0.0000e+00, 0.0000e+00, 3.5625e-08,\n",
       "             5.0100e-08, 1.5380e-07, 0.0000e+00, 3.4239e-05, 1.5180e-06, 4.8814e-06,\n",
       "             0.0000e+00, 1.0426e-05, 2.7449e-05])},\n",
       "    2: {'step': tensor(5.),\n",
       "     'exp_avg': tensor([[-0.0009, -0.0037,  0.0000,  0.0000,  0.0000,  0.0007, -0.0014, -0.0044,\n",
       "               0.0000, -0.0018, -0.0003, -0.0032,  0.0000,  0.0046,  0.0006],\n",
       "             [ 0.0120,  0.0495,  0.0000,  0.0000,  0.0000, -0.0091,  0.0187,  0.0585,\n",
       "               0.0000,  0.0243,  0.0044,  0.0434,  0.0000, -0.0618, -0.0082],\n",
       "             [ 0.0207,  0.0854,  0.0000,  0.0000,  0.0000, -0.0157,  0.0323,  0.1011,\n",
       "               0.0000,  0.0419,  0.0076,  0.0749,  0.0000, -0.1066, -0.0142],\n",
       "             [ 0.0000,  0.0000,  0.0000,  0.0000,  0.0000,  0.0000,  0.0000,  0.0000,\n",
       "               0.0000,  0.0000,  0.0000,  0.0000,  0.0000,  0.0000,  0.0000],\n",
       "             [ 0.0000,  0.0000,  0.0000,  0.0000,  0.0000,  0.0000,  0.0000,  0.0000,\n",
       "               0.0000,  0.0000,  0.0000,  0.0000,  0.0000,  0.0000,  0.0000],\n",
       "             [ 0.0000,  0.0000,  0.0000,  0.0000,  0.0000,  0.0000,  0.0000,  0.0000,\n",
       "               0.0000,  0.0000,  0.0000,  0.0000,  0.0000,  0.0000,  0.0000],\n",
       "             [ 0.0000,  0.0000,  0.0000,  0.0000,  0.0000,  0.0000,  0.0000,  0.0000,\n",
       "               0.0000,  0.0000,  0.0000,  0.0000,  0.0000,  0.0000,  0.0000],\n",
       "             [ 0.0000,  0.0000,  0.0000,  0.0000,  0.0000,  0.0000,  0.0000,  0.0000,\n",
       "               0.0000,  0.0000,  0.0000,  0.0000,  0.0000,  0.0000,  0.0000],\n",
       "             [ 0.0045,  0.0185,  0.0000,  0.0000,  0.0000, -0.0034,  0.0070,  0.0219,\n",
       "               0.0000,  0.0091,  0.0016,  0.0163,  0.0000, -0.0231, -0.0031],\n",
       "             [ 0.0000,  0.0000,  0.0000,  0.0000,  0.0000,  0.0000,  0.0000,  0.0000,\n",
       "               0.0000,  0.0000,  0.0000,  0.0000,  0.0000,  0.0000,  0.0000]]),\n",
       "     'exp_avg_sq': tensor([[2.3564e-08, 3.9634e-07, 0.0000e+00, 0.0000e+00, 0.0000e+00, 1.4035e-08,\n",
       "              5.5842e-08, 5.5526e-07, 0.0000e+00, 9.6596e-08, 3.1520e-09, 3.0598e-07,\n",
       "              0.0000e+00, 6.1716e-07, 1.1620e-08],\n",
       "             [4.2216e-06, 7.2331e-05, 0.0000e+00, 0.0000e+00, 0.0000e+00, 2.4081e-06,\n",
       "              1.0581e-05, 1.0120e-04, 0.0000e+00, 1.7315e-05, 6.5603e-07, 5.5476e-05,\n",
       "              0.0000e+00, 1.1279e-04, 1.9772e-06],\n",
       "             [1.2592e-05, 2.1589e-04, 0.0000e+00, 0.0000e+00, 0.0000e+00, 7.1721e-06,\n",
       "              3.1621e-05, 3.0205e-04, 0.0000e+00, 5.1649e-05, 1.9663e-06, 1.6554e-04,\n",
       "              0.0000e+00, 3.3667e-04, 5.8869e-06],\n",
       "             [0.0000e+00, 0.0000e+00, 0.0000e+00, 0.0000e+00, 0.0000e+00, 0.0000e+00,\n",
       "              0.0000e+00, 0.0000e+00, 0.0000e+00, 0.0000e+00, 0.0000e+00, 0.0000e+00,\n",
       "              0.0000e+00, 0.0000e+00, 0.0000e+00],\n",
       "             [0.0000e+00, 0.0000e+00, 0.0000e+00, 0.0000e+00, 0.0000e+00, 0.0000e+00,\n",
       "              0.0000e+00, 0.0000e+00, 0.0000e+00, 0.0000e+00, 0.0000e+00, 0.0000e+00,\n",
       "              0.0000e+00, 0.0000e+00, 0.0000e+00],\n",
       "             [0.0000e+00, 0.0000e+00, 0.0000e+00, 0.0000e+00, 0.0000e+00, 0.0000e+00,\n",
       "              0.0000e+00, 0.0000e+00, 0.0000e+00, 0.0000e+00, 0.0000e+00, 0.0000e+00,\n",
       "              0.0000e+00, 0.0000e+00, 0.0000e+00],\n",
       "             [0.0000e+00, 0.0000e+00, 0.0000e+00, 0.0000e+00, 0.0000e+00, 0.0000e+00,\n",
       "              0.0000e+00, 0.0000e+00, 0.0000e+00, 0.0000e+00, 0.0000e+00, 0.0000e+00,\n",
       "              0.0000e+00, 0.0000e+00, 0.0000e+00],\n",
       "             [0.0000e+00, 0.0000e+00, 0.0000e+00, 0.0000e+00, 0.0000e+00, 0.0000e+00,\n",
       "              0.0000e+00, 0.0000e+00, 0.0000e+00, 0.0000e+00, 0.0000e+00, 0.0000e+00,\n",
       "              0.0000e+00, 0.0000e+00, 0.0000e+00],\n",
       "             [5.9102e-07, 1.0101e-05, 0.0000e+00, 0.0000e+00, 0.0000e+00, 3.3919e-07,\n",
       "              1.4702e-06, 1.4135e-05, 0.0000e+00, 2.4240e-06, 9.0072e-08, 7.7540e-06,\n",
       "              0.0000e+00, 1.5748e-05, 2.7883e-07],\n",
       "             [0.0000e+00, 0.0000e+00, 0.0000e+00, 0.0000e+00, 0.0000e+00, 0.0000e+00,\n",
       "              0.0000e+00, 0.0000e+00, 0.0000e+00, 0.0000e+00, 0.0000e+00, 0.0000e+00,\n",
       "              0.0000e+00, 0.0000e+00, 0.0000e+00]])},\n",
       "    3: {'step': tensor(5.),\n",
       "     'exp_avg': tensor([-0.0040,  0.0545,  0.0941,  0.0000,  0.0000,  0.0000,  0.0000,  0.0000,\n",
       "              0.0204,  0.0000]),\n",
       "     'exp_avg_sq': tensor([4.7714e-07, 8.8522e-05, 2.6436e-04, 0.0000e+00, 0.0000e+00, 0.0000e+00,\n",
       "             0.0000e+00, 0.0000e+00, 1.2334e-05, 0.0000e+00])},\n",
       "    4: {'step': tensor(5.),\n",
       "     'exp_avg': tensor([[ 0.0821, -0.1237, -0.1054,  0.0000,  0.0000,  0.0000,  0.0000,  0.0000,\n",
       "              -0.0650,  0.0000]]),\n",
       "     'exp_avg_sq': tensor([[0.0002, 0.0005, 0.0003, 0.0000, 0.0000, 0.0000, 0.0000, 0.0000, 0.0001,\n",
       "              0.0000]])},\n",
       "    5: {'step': tensor(5.),\n",
       "     'exp_avg': tensor([0.3885]),\n",
       "     'exp_avg_sq': tensor([0.0045])}},\n",
       "   'param_groups': [{'lr': 0.001,\n",
       "     'betas': (0.9, 0.999),\n",
       "     'eps': 1e-08,\n",
       "     'weight_decay': 0,\n",
       "     'amsgrad': False,\n",
       "     'maximize': False,\n",
       "     'foreach': None,\n",
       "     'capturable': False,\n",
       "     'differentiable': False,\n",
       "     'fused': None,\n",
       "     'params': [0, 1, 2, 3, 4, 5]}]}],\n",
       " 'lr_schedulers': [],\n",
       " 'hparams_name': 'kwargs',\n",
       " 'hyper_parameters': {'model': FeedForward(\n",
       "    (nn): Sequential(\n",
       "      (0): Linear(in_features=21, out_features=15, bias=True)\n",
       "      (1): ReLU(inplace=True)\n",
       "      (2): Linear(in_features=15, out_features=10, bias=True)\n",
       "      (3): ReLU(inplace=True)\n",
       "      (4): Linear(in_features=10, out_features=1, bias=True)\n",
       "    )\n",
       "  ),\n",
       "  'preprocessing': None,\n",
       "  'postprocessing': None,\n",
       "  'n_states': 2,\n",
       "  'n_cvs': 1,\n",
       "  'target_centers': [-7, 7],\n",
       "  'target_sigmas': [0.2, 0.2],\n",
       "  'options': None}}"
      ]
     },
     "execution_count": 74,
     "metadata": {},
     "output_type": "execute_result"
    }
   ],
   "source": [
    "torch.load('checkpoints/epoch=4-step=5.ckpt')"
   ]
  },
  {
   "cell_type": "code",
   "execution_count": null,
   "metadata": {},
   "outputs": [],
   "source": []
  }
 ],
 "metadata": {
  "kernelspec": {
   "display_name": "graph_mlcolvar_test",
   "language": "python",
   "name": "python3"
  },
  "language_info": {
   "codemirror_mode": {
    "name": "ipython",
    "version": 3
   },
   "file_extension": ".py",
   "mimetype": "text/x-python",
   "name": "python",
   "nbconvert_exporter": "python",
   "pygments_lexer": "ipython3",
   "version": "3.9.18"
  }
 },
 "nbformat": 4,
 "nbformat_minor": 2
}
