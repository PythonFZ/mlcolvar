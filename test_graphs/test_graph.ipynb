{
 "cells": [
  {
   "cell_type": "code",
   "execution_count": 9,
   "metadata": {},
   "outputs": [
    {
     "name": "stdout",
     "output_type": "stream",
     "text": [
      "DictModule(dataset -> DictDataset( \"data_list\": 1600, \"z_table\": [6, 9], \"cutoff\": 8.0, \"data_type\": graphs ),\n",
      "\t\t     train_loader -> DictLoader(length=0.8, batch_size=1600, shuffle=1),\n",
      "\t\t     valid_loader -> DictLoader(length=0.2, batch_size=1600, shuffle=0))\n",
      "Class 0 dataframe shape:  (800, 24)\n",
      "Class 1 dataframe shape:  (800, 24)\n",
      "\n",
      " - Loaded dataframe (1600, 24): ['time', 'd1', 'd2', 'd3', 'd4', 'd5', 'd6', 'd7', 'd8', 'd9', 'd10', 'd11', 'd12', 'd13', 'd14', 'd15', 'd16', 'd17', 'd18', 'd19', 'd20', 'd21', 'walker', 'labels']\n",
      " - Descriptors (1600, 21): ['d1', 'd2', 'd3', 'd4', 'd5', 'd6', 'd7', 'd8', 'd9', 'd10', 'd11', 'd12', 'd13', 'd14', 'd15', 'd16', 'd17', 'd18', 'd19', 'd20', 'd21']\n"
     ]
    }
   ],
   "source": [
    "from mlcolvar.data import DictModule\n",
    "from mlcolvar.utils.io import create_dataset_from_trajectories\n",
    "from mlcolvar.utils.io import create_dataset_from_files\n",
    "\n",
    "\n",
    "dataset_graph = create_dataset_from_trajectories(\n",
    "    trajectories=[\n",
    "        'data/r.dcd',\n",
    "        'data/p.dcd'\n",
    "    ],\n",
    "    top=['data/r.pdb', \n",
    "         'data/p.pdb'],\n",
    "    cutoff=8.0,  # Ang\n",
    "    create_labels=True,\n",
    "    system_selection='all and not type H',\n",
    "    show_progress=False\n",
    ")\n",
    "\n",
    "datamodule_graph = DictModule(dataset_graph, lengths=[0.8, 0.2], shuffle=[1, 0])\n",
    "print(datamodule_graph)\n",
    "\n",
    "\n",
    "dataset_ff = create_dataset_from_files(file_names=['data/colvar_r.dat',\n",
    "                                                   'data/colvar_p.dat'],\n",
    "                                                   filter_args={'regex': 'd'})\n",
    "\n",
    "datamodule_ff = DictModule(dataset_ff, lengths=[0.8, 0.2], shuffle=[1, 0])\n"
   ]
  },
  {
   "cell_type": "code",
   "execution_count": 10,
   "metadata": {},
   "outputs": [],
   "source": [
    "from mlcolvar.core.nn.graph.schnet import SchNetModel\n",
    "\n",
    "gnn_model = SchNetModel(n_out=1,\n",
    "                        cutoff=dataset_graph.metadata['cutoff'],\n",
    "                        atomic_numbers=dataset_graph.metadata['z_table'],\n",
    "                        n_bases=6,\n",
    "                        n_layers=2,\n",
    "                        n_filters=32,\n",
    "                        n_hidden_channels=32\n",
    "                    )"
   ]
  },
  {
   "cell_type": "code",
   "execution_count": null,
   "metadata": {},
   "outputs": [
    {
     "name": "stderr",
     "output_type": "stream",
     "text": [
      "/home/etrizio@iit.local/Bin/miniconda3/envs/graph_mlcolvar_test/lib/python3.9/site-packages/lightning/pytorch/utilities/parsing.py:198: Attribute 'model' is an instance of `nn.Module` and is already saved during checkpointing. It is recommended to ignore them using `self.save_hyperparameters(ignore=['model'])`.\n"
     ]
    }
   ],
   "source": [
    "from mlcolvar.cvs.supervised.deeptda import DeepTDA\n",
    "\n",
    "model_graph = DeepTDA(n_states=2,\n",
    "                        n_cvs=1,\n",
    "                        target_centers=[-7, 7],\n",
    "                        target_sigmas=[0.2, 0.2],\n",
    "                        model=gnn_model)\n",
    "\n",
    "from mlcolvar.core.nn import FeedForward\n",
    "\n",
    "ff_model = FeedForward(layers=[21, 15, 10, 1])\n",
    "model_ff = DeepTDA(n_states=2,\n",
    "                    n_cvs=1,\n",
    "                    target_centers=[-7, 7],\n",
    "                    target_sigmas=[0.2, 0.2],\n",
    "                    model=ff_model)"
   ]
  },
  {
   "cell_type": "code",
   "execution_count": 12,
   "metadata": {},
   "outputs": [
    {
     "data": {
      "text/plain": [
       "False"
      ]
     },
     "execution_count": 12,
     "metadata": {},
     "output_type": "execute_result"
    }
   ],
   "source": [
    "model_graph.eval()\n",
    "model_graph.training"
   ]
  },
  {
   "cell_type": "code",
   "execution_count": 13,
   "metadata": {},
   "outputs": [
    {
     "name": "stderr",
     "output_type": "stream",
     "text": [
      "GPU available: True (cuda), used: True\n",
      "TPU available: False, using: 0 TPU cores\n",
      "IPU available: False, using: 0 IPUs\n",
      "HPU available: False, using: 0 HPUs\n",
      "LOCAL_RANK: 0 - CUDA_VISIBLE_DEVICES: [0]\n"
     ]
    },
    {
     "data": {
      "application/vnd.jupyter.widget-view+json": {
       "model_id": "7cc2ca5515fd41cebfd86c74155a2308",
       "version_major": 2,
       "version_minor": 0
      },
      "text/plain": [
       "Sanity Checking: |          | 0/? [00:00<?, ?it/s]"
      ]
     },
     "metadata": {},
     "output_type": "display_data"
    },
    {
     "name": "stderr",
     "output_type": "stream",
     "text": [
      "/home/etrizio@iit.local/Bin/miniconda3/envs/graph_mlcolvar_test/lib/python3.9/site-packages/lightning/pytorch/trainer/connectors/data_connector.py:441: The 'val_dataloader' does not have many workers which may be a bottleneck. Consider increasing the value of the `num_workers` argument` to `num_workers=63` in the `DataLoader` to improve performance.\n",
      "/home/etrizio@iit.local/Bin/miniconda3/envs/graph_mlcolvar_test/lib/python3.9/site-packages/lightning/pytorch/trainer/connectors/data_connector.py:441: The 'train_dataloader' does not have many workers which may be a bottleneck. Consider increasing the value of the `num_workers` argument` to `num_workers=63` in the `DataLoader` to improve performance.\n"
     ]
    },
    {
     "data": {
      "application/vnd.jupyter.widget-view+json": {
       "model_id": "efaed37c2205450392f2e1d63b904c70",
       "version_major": 2,
       "version_minor": 0
      },
      "text/plain": [
       "Training: |          | 0/? [00:00<?, ?it/s]"
      ]
     },
     "metadata": {},
     "output_type": "display_data"
    },
    {
     "data": {
      "application/vnd.jupyter.widget-view+json": {
       "model_id": "063d6a064ab742fbb81a595abfd9e76d",
       "version_major": 2,
       "version_minor": 0
      },
      "text/plain": [
       "Validation: |          | 0/? [00:00<?, ?it/s]"
      ]
     },
     "metadata": {},
     "output_type": "display_data"
    },
    {
     "data": {
      "application/vnd.jupyter.widget-view+json": {
       "model_id": "859b7c2f9bb04830af8974c46f6599aa",
       "version_major": 2,
       "version_minor": 0
      },
      "text/plain": [
       "Validation: |          | 0/? [00:00<?, ?it/s]"
      ]
     },
     "metadata": {},
     "output_type": "display_data"
    },
    {
     "data": {
      "application/vnd.jupyter.widget-view+json": {
       "model_id": "6f09d87595ff44b7b2033d2c941ba020",
       "version_major": 2,
       "version_minor": 0
      },
      "text/plain": [
       "Validation: |          | 0/? [00:00<?, ?it/s]"
      ]
     },
     "metadata": {},
     "output_type": "display_data"
    },
    {
     "data": {
      "application/vnd.jupyter.widget-view+json": {
       "model_id": "2d6f079bb4ed43e2b274a7ce5287ffa2",
       "version_major": 2,
       "version_minor": 0
      },
      "text/plain": [
       "Validation: |          | 0/? [00:00<?, ?it/s]"
      ]
     },
     "metadata": {},
     "output_type": "display_data"
    },
    {
     "data": {
      "application/vnd.jupyter.widget-view+json": {
       "model_id": "f8414498ddb64b69971d131c7df006d3",
       "version_major": 2,
       "version_minor": 0
      },
      "text/plain": [
       "Validation: |          | 0/? [00:00<?, ?it/s]"
      ]
     },
     "metadata": {},
     "output_type": "display_data"
    },
    {
     "data": {
      "application/vnd.jupyter.widget-view+json": {
       "model_id": "a350e040af474b84a3e561a5800ec621",
       "version_major": 2,
       "version_minor": 0
      },
      "text/plain": [
       "Validation: |          | 0/? [00:00<?, ?it/s]"
      ]
     },
     "metadata": {},
     "output_type": "display_data"
    },
    {
     "data": {
      "application/vnd.jupyter.widget-view+json": {
       "model_id": "d1fb9adeb4ad4142adc3155c351f7b34",
       "version_major": 2,
       "version_minor": 0
      },
      "text/plain": [
       "Validation: |          | 0/? [00:00<?, ?it/s]"
      ]
     },
     "metadata": {},
     "output_type": "display_data"
    },
    {
     "data": {
      "application/vnd.jupyter.widget-view+json": {
       "model_id": "1d5954dc51a147d28234841d68a0c59b",
       "version_major": 2,
       "version_minor": 0
      },
      "text/plain": [
       "Validation: |          | 0/? [00:00<?, ?it/s]"
      ]
     },
     "metadata": {},
     "output_type": "display_data"
    },
    {
     "data": {
      "application/vnd.jupyter.widget-view+json": {
       "model_id": "787d3b5b840e4e2889c7291d82716191",
       "version_major": 2,
       "version_minor": 0
      },
      "text/plain": [
       "Validation: |          | 0/? [00:00<?, ?it/s]"
      ]
     },
     "metadata": {},
     "output_type": "display_data"
    },
    {
     "data": {
      "application/vnd.jupyter.widget-view+json": {
       "model_id": "7ae85a062d3045f8ab4cd5518d60a772",
       "version_major": 2,
       "version_minor": 0
      },
      "text/plain": [
       "Validation: |          | 0/? [00:00<?, ?it/s]"
      ]
     },
     "metadata": {},
     "output_type": "display_data"
    },
    {
     "name": "stderr",
     "output_type": "stream",
     "text": [
      "`Trainer.fit` stopped: `max_epochs=10` reached.\n"
     ]
    }
   ],
   "source": [
    "from lightning import Trainer\n",
    "\n",
    "trainer = Trainer(\n",
    "    logger=False,\n",
    "    enable_checkpointing=False,\n",
    "    accelerator='cuda',\n",
    "    max_epochs=10,\n",
    "    enable_model_summary=False\n",
    ")\n",
    "\n",
    "trainer.fit(model_graph, datamodule_graph)"
   ]
  },
  {
   "cell_type": "code",
   "execution_count": null,
   "metadata": {},
   "outputs": [],
   "source": [
    "gnn_model.ou"
   ]
  },
  {
   "cell_type": "code",
   "execution_count": 6,
   "metadata": {},
   "outputs": [
    {
     "data": {
      "text/plain": [
       "DataBatch(edge_index=[2, 53760], shifts=[53760, 3], unit_shifts=[53760, 3], positions=[8960, 3], cell=[3840, 3], node_attrs=[8960, 2], graph_labels=[1280, 1], n_system=[1280, 1], weight=[1280], batch=[8960], ptr=[1281])"
      ]
     },
     "execution_count": 6,
     "metadata": {},
     "output_type": "execute_result"
    }
   ],
   "source": [
    "datamodule_graph.setup()\n",
    "a = datamodule_graph.train_dataloader()\n",
    "list(a)\n",
    "test = next(iter(a))\n",
    "inp = test['data_list']\n",
    "inp"
   ]
  },
  {
   "cell_type": "code",
   "execution_count": 6,
   "metadata": {},
   "outputs": [
    {
     "data": {
      "text/plain": [
       "Data(edge_index=[2, 42], shifts=[42, 3], unit_shifts=[42, 3], positions=[7, 3], cell=[3, 3], node_attrs=[7, 2], graph_labels=[1, 1], n_system=[1, 1], weight=[1], batch=[1])"
      ]
     },
     "execution_count": 6,
     "metadata": {},
     "output_type": "execute_result"
    }
   ],
   "source": [
    "import torch\n",
    "xxx = inp.get_example(0)\n",
    "xxx.batch = torch.tensor([0], dtype = torch.long)\n",
    "xxx"
   ]
  },
  {
   "cell_type": "code",
   "execution_count": 7,
   "metadata": {},
   "outputs": [
    {
     "name": "stderr",
     "output_type": "stream",
     "text": [
      "/home/etrizio@iit.local/Bin/dev/mlcolvar/mlcolvar/data/graph/utils.py:69: UserWarning: To copy construct from a tensor, it is recommended to use sourceTensor.clone().detach() or sourceTensor.clone().detach().requires_grad_(True), rather than torch.tensor(sourceTensor).\n",
      "  torch.tensor(config.graph_labels, dtype=torch.get_default_dtype())\n",
      "/home/etrizio@iit.local/Bin/dev/mlcolvar/mlcolvar/data/datamodule.py:301: UserWarning: Length of split at index 1 is 0. This might result in an empty dataset.\n",
      "  warnings.warn(\n"
     ]
    }
   ],
   "source": [
    "# model_graph.eval()\n",
    "traced_model = model_graph.to_torchscript('test.pt', method='trace')"
   ]
  },
  {
   "cell_type": "code",
   "execution_count": 8,
   "metadata": {},
   "outputs": [
    {
     "name": "stdout",
     "output_type": "stream",
     "text": [
      "tensor([[0.3392]], grad_fn=<DivBackward0>)\n"
     ]
    }
   ],
   "source": [
    "print(model_graph(xxx))"
   ]
  },
  {
   "cell_type": "code",
   "execution_count": 9,
   "metadata": {},
   "outputs": [
    {
     "data": {
      "text/plain": [
       "torch_geometric.data.batch.DataBatch"
      ]
     },
     "execution_count": 9,
     "metadata": {},
     "output_type": "execute_result"
    }
   ],
   "source": [
    "type(inp)"
   ]
  },
  {
   "cell_type": "code",
   "execution_count": 10,
   "metadata": {},
   "outputs": [
    {
     "name": "stdout",
     "output_type": "stream",
     "text": [
      "tensor([[0.3392]], grad_fn=<DivBackward0>)\n",
      "tensor([[0.2707]], grad_fn=<DivBackward0>)\n",
      "tensor([[0.3392]], grad_fn=<DivBackward0>)\n",
      "tensor([[0.2707]], grad_fn=<DivBackward0>)\n",
      "tensor([[0.3392]], grad_fn=<DivBackward0>)\n",
      "tensor([[0.2707]], grad_fn=<DivBackward0>)\n"
     ]
    }
   ],
   "source": [
    "test = inp.get_example(100)\n",
    "test.batch = torch.tensor([0], dtype = torch.long)\n",
    "\n",
    "print(model_graph(xxx))\n",
    "print(model_graph(test))\n",
    "\n",
    "print(traced_model(xxx))\n",
    "print(traced_model(test))\n",
    "\n",
    "\n",
    "loaded_model = torch.jit.load('test.pt')\n",
    "\n",
    "print(loaded_model(xxx))\n",
    "print(loaded_model(test))\n",
    "\n",
    "\n",
    "# EVVIVAAAAAA"
   ]
  },
  {
   "cell_type": "code",
   "execution_count": 11,
   "metadata": {},
   "outputs": [
    {
     "data": {
      "text/plain": [
       "[{'data_list': DataBatch(edge_index=[2, 53760], shifts=[53760, 3], unit_shifts=[53760, 3], positions=[8960, 3], cell=[3840, 3], node_attrs=[8960, 2], graph_labels=[1280, 1], n_system=[1280, 1], weight=[1280], batch=[8960], ptr=[1281])}]"
      ]
     },
     "execution_count": 11,
     "metadata": {},
     "output_type": "execute_result"
    }
   ],
   "source": [
    "datamodule_ff.setup()\n",
    "\n",
    "a = datamodule_ff.train_dataloader()\n",
    "a.dataset['data']\n",
    "\n",
    "datamodule_graph.setup()\n",
    "a = datamodule_graph.train_dataloader()\n",
    "list(a)\n"
   ]
  },
  {
   "cell_type": "code",
   "execution_count": 12,
   "metadata": {},
   "outputs": [
    {
     "name": "stderr",
     "output_type": "stream",
     "text": [
      "GPU available: True (cuda), used: False\n",
      "TPU available: False, using: 0 TPU cores\n",
      "IPU available: False, using: 0 IPUs\n",
      "HPU available: False, using: 0 HPUs\n",
      "/home/etrizio@iit.local/Bin/miniconda3/envs/graph_mlcolvar_test/lib/python3.9/site-packages/lightning/pytorch/trainer/setup.py:187: GPU available but not used. You can set it by doing `Trainer(accelerator='gpu')`.\n"
     ]
    },
    {
     "data": {
      "application/vnd.jupyter.widget-view+json": {
       "model_id": "93c79dd966284476b9c70b5baaf81a76",
       "version_major": 2,
       "version_minor": 0
      },
      "text/plain": [
       "Sanity Checking: |          | 0/? [00:00<?, ?it/s]"
      ]
     },
     "metadata": {},
     "output_type": "display_data"
    },
    {
     "data": {
      "application/vnd.jupyter.widget-view+json": {
       "model_id": "f65ea81b4e2245eca9b7c8ce38044a28",
       "version_major": 2,
       "version_minor": 0
      },
      "text/plain": [
       "Training: |          | 0/? [00:00<?, ?it/s]"
      ]
     },
     "metadata": {},
     "output_type": "display_data"
    },
    {
     "data": {
      "application/vnd.jupyter.widget-view+json": {
       "model_id": "a0c3ddc9056b4da5946c14af2ecb85dc",
       "version_major": 2,
       "version_minor": 0
      },
      "text/plain": [
       "Validation: |          | 0/? [00:00<?, ?it/s]"
      ]
     },
     "metadata": {},
     "output_type": "display_data"
    },
    {
     "data": {
      "application/vnd.jupyter.widget-view+json": {
       "model_id": "e6e1424a81f5461687a01759282f4f68",
       "version_major": 2,
       "version_minor": 0
      },
      "text/plain": [
       "Validation: |          | 0/? [00:00<?, ?it/s]"
      ]
     },
     "metadata": {},
     "output_type": "display_data"
    },
    {
     "data": {
      "application/vnd.jupyter.widget-view+json": {
       "model_id": "69ca412e3b004d21b5bb2103fea86cb0",
       "version_major": 2,
       "version_minor": 0
      },
      "text/plain": [
       "Validation: |          | 0/? [00:00<?, ?it/s]"
      ]
     },
     "metadata": {},
     "output_type": "display_data"
    },
    {
     "data": {
      "application/vnd.jupyter.widget-view+json": {
       "model_id": "1715c5b23bbe461fa34c3ff16e33f042",
       "version_major": 2,
       "version_minor": 0
      },
      "text/plain": [
       "Validation: |          | 0/? [00:00<?, ?it/s]"
      ]
     },
     "metadata": {},
     "output_type": "display_data"
    },
    {
     "data": {
      "application/vnd.jupyter.widget-view+json": {
       "model_id": "2abb55cc1e6442359ef18e970a03d15c",
       "version_major": 2,
       "version_minor": 0
      },
      "text/plain": [
       "Validation: |          | 0/? [00:00<?, ?it/s]"
      ]
     },
     "metadata": {},
     "output_type": "display_data"
    },
    {
     "name": "stderr",
     "output_type": "stream",
     "text": [
      "`Trainer.fit` stopped: `max_epochs=5` reached.\n"
     ]
    }
   ],
   "source": [
    "trainer = Trainer(\n",
    "    logger=False,\n",
    "    enable_checkpointing=False,\n",
    "    accelerator='cpu',\n",
    "    max_epochs=5,\n",
    "    enable_model_summary=False\n",
    ")\n",
    "\n",
    "trainer.fit(model_ff, datamodule_ff)"
   ]
  },
  {
   "cell_type": "code",
   "execution_count": 13,
   "metadata": {},
   "outputs": [],
   "source": [
    "loader = datamodule_graph\n",
    "test = next(iter(loader.train_dataloader()))['data_list']\n",
    "out_graph = model_graph(test)\n",
    "\n",
    "out_ff = model_ff(dataset_ff['data'])"
   ]
  },
  {
   "cell_type": "code",
   "execution_count": 14,
   "metadata": {},
   "outputs": [
    {
     "data": {
      "image/png": "[encoded data removed]",
      "text/plain": [
       "<Figure size 640x480 with 1 Axes>"
      ]
     },
     "metadata": {},
     "output_type": "display_data"
    }
   ],
   "source": [
    "import matplotlib.pyplot as plt\n",
    "\n",
    "plt.hist(out_graph.detach().squeeze())\n",
    "plt.hist(out_ff.detach().squeeze())\n",
    "plt.show()"
   ]
  },
  {
   "cell_type": "code",
   "execution_count": null,
   "metadata": {},
   "outputs": [],
   "source": []
  }
 ],
 "metadata": {
  "kernelspec": {
   "display_name": "graph_mlcolvar_test",
   "language": "python",
   "name": "python3"
  },
  "language_info": {
   "codemirror_mode": {
    "name": "ipython",
    "version": 3
   },
   "file_extension": ".py",
   "mimetype": "text/x-python",
   "name": "python",
   "nbconvert_exporter": "python",
   "pygments_lexer": "ipython3",
   "version": "3.9.18"
  }
 },
 "nbformat": 4,
 "nbformat_minor": 2
}
