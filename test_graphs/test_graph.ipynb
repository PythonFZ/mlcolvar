{
 "cells": [
  {
   "cell_type": "code",
   "execution_count": 1,
   "metadata": {},
   "outputs": [],
   "source": [
    "import numpy as np\n",
    "import torch_geometric\n",
    "from mlcolvar.data import graph as gdata"
   ]
  },
  {
   "cell_type": "code",
   "execution_count": 2,
   "metadata": {},
   "outputs": [
    {
     "name": "stdout",
     "output_type": "stream",
     "text": [
      "DictModule(dataset -> DictDataset( \"data_list\": 1600, \"z_table\": [6, 9], \"cutoff\": 8.0 ),\n",
      "\t\t     train_loader -> DictLoader(length=0.8, batch_size=1600, shuffle=1),\n",
      "\t\t     valid_loader -> DictLoader(length=0.2, batch_size=1600, shuffle=0))\n",
      "Class 0 dataframe shape:  (800, 24)\n",
      "Class 1 dataframe shape:  (800, 24)\n",
      "\n",
      " - Loaded dataframe (1600, 24): ['time', 'd1', 'd2', 'd3', 'd4', 'd5', 'd6', 'd7', 'd8', 'd9', 'd10', 'd11', 'd12', 'd13', 'd14', 'd15', 'd16', 'd17', 'd18', 'd19', 'd20', 'd21', 'walker', 'labels']\n",
      " - Descriptors (1600, 21): ['d1', 'd2', 'd3', 'd4', 'd5', 'd6', 'd7', 'd8', 'd9', 'd10', 'd11', 'd12', 'd13', 'd14', 'd15', 'd16', 'd17', 'd18', 'd19', 'd20', 'd21']\n"
     ]
    }
   ],
   "source": [
    "from mlcolvar.data.graph.datamodule import GraphDataModule\n",
    "from mlcolvar.utils.io import create_dataset_from_trajectories\n",
    "\n",
    "dataset_graph = create_dataset_from_trajectories(\n",
    "    trajectories=[\n",
    "        'data/r.dcd',\n",
    "        'data/p.dcd'\n",
    "    ],\n",
    "    top=['data/r.pdb', \n",
    "         'data/p.pdb'],\n",
    "    cutoff=8.0,  # Ang\n",
    "    create_labels=True,\n",
    "    system_selection='all and not type H',\n",
    "    show_progress=False\n",
    ")\n",
    "\n",
    "datamodule_graph = GraphDataModule(dataset_graph, shuffle=[1, 0])\n",
    "print(datamodule_graph)\n",
    "\n",
    "\n",
    "from mlcolvar.utils.io import create_dataset_from_files\n",
    "from mlcolvar.data import DictModule\n",
    "\n",
    "dataset_ff = create_dataset_from_files(file_names=['data/colvar_r.dat',\n",
    "                                                   'data/colvar_p.dat'],\n",
    "                                                   filter_args={'regex': 'd'})\n",
    "\n",
    "datamodule_ff = DictModule(dataset_ff, lengths=[1])\n"
   ]
  },
  {
   "cell_type": "code",
   "execution_count": 3,
   "metadata": {},
   "outputs": [
    {
     "data": {
      "text/plain": [
       "DictDataset( \"data_list\": 1600, \"z_table\": [6, 9], \"cutoff\": 8.0 )"
      ]
     },
     "execution_count": 3,
     "metadata": {},
     "output_type": "execute_result"
    }
   ],
   "source": [
    "dataset_graph"
   ]
  },
  {
   "cell_type": "code",
   "execution_count": 4,
   "metadata": {},
   "outputs": [],
   "source": [
    "# a = dataset_graph['z_table']\n",
    "# new = []\n",
    "# for i in a:\n",
    "#     new.append(int(i))\n",
    "# new\n",
    "\n",
    "# dataset_graph['z_table'] = new\n"
   ]
  },
  {
   "cell_type": "code",
   "execution_count": 4,
   "metadata": {},
   "outputs": [
    {
     "data": {
      "text/plain": [
       "tensor([[0.1000],\n",
       "        [0.1000],\n",
       "        [0.1000],\n",
       "        [0.1000],\n",
       "        [0.1000],\n",
       "        [0.1000],\n",
       "        [0.1000],\n",
       "        [0.1000],\n",
       "        [0.1000],\n",
       "        [0.1000]])"
      ]
     },
     "execution_count": 4,
     "metadata": {},
     "output_type": "execute_result"
    }
   ],
   "source": [
    "import torch\n",
    "d = {'a' : torch.zeros(10), 'b': 0.1}\n",
    "\n",
    "torch.tile(torch.Tensor([d['b']]), (len(d[\"a\"]), 1))"
   ]
  },
  {
   "cell_type": "raw",
   "metadata": {
    "vscode": {
     "languageId": "raw"
    }
   },
   "source": [
    "test = list(datamodule.train_loader)[0]\n",
    "print(gnn_model(test))\n",
    "print(model(test))"
   ]
  },
  {
   "cell_type": "code",
   "execution_count": 4,
   "metadata": {},
   "outputs": [],
   "source": [
    "from mlcolvar.core.nn.graph.schnet import SchNetModel\n",
    "\n",
    "gnn_model = SchNetModel(n_out=1,\n",
    "                        cutoff=dataset_graph.metadata['cutoff'],\n",
    "                        atomic_numbers=dataset_graph.metadata['z_table'],\n",
    "                        n_bases=6,\n",
    "                        n_layers=2,\n",
    "                        n_filters=32,\n",
    "                        n_hidden_channels=32\n",
    "                    )\n",
    "\n",
    "# gnn_model = SchNetModel(n_out=1,\n",
    "#                         cutoff=dataset_graph.cutoff,\n",
    "#                         atomic_numbers=dataset_graph.atomic_numbers,\n",
    "#                         n_bases=6,\n",
    "#                         n_layers=2,\n",
    "#                         n_filters=32,\n",
    "#                         n_hidden_channels=32\n",
    "#                     )"
   ]
  },
  {
   "cell_type": "code",
   "execution_count": 5,
   "metadata": {},
   "outputs": [
    {
     "name": "stderr",
     "output_type": "stream",
     "text": [
      "/home/etrizio@iit.local/Bin/miniconda3/envs/graph_mlcolvar_test/lib/python3.9/site-packages/lightning/pytorch/utilities/parsing.py:198: Attribute 'gnn_model' is an instance of `nn.Module` and is already saved during checkpointing. It is recommended to ignore them using `self.save_hyperparameters(ignore=['gnn_model'])`.\n"
     ]
    }
   ],
   "source": [
    "from mlcolvar.cvs.supervised.deeptda_merged import DeepTDA\n",
    "\n",
    "model_graph = DeepTDA(n_states=2,\n",
    "                        n_cvs=1,\n",
    "                        target_centers=[-7, 7],\n",
    "                        target_sigmas=[0.2, 0.2],\n",
    "                        layers=[21, 15, 10, 1],\n",
    "                        gnn_model=gnn_model)\n",
    "\n",
    "model_ff = DeepTDA(n_states=2,\n",
    "                    n_cvs=1,\n",
    "                    target_centers=[-7, 7],\n",
    "                    target_sigmas=[0.2, 0.2],\n",
    "                    layers=[21, 15, 10, 1],\n",
    "                    gnn_model=None)\n",
    "\n"
   ]
  },
  {
   "cell_type": "code",
   "execution_count": 6,
   "metadata": {},
   "outputs": [
    {
     "name": "stderr",
     "output_type": "stream",
     "text": [
      "GPU available: True (cuda), used: True\n",
      "TPU available: False, using: 0 TPU cores\n",
      "IPU available: False, using: 0 IPUs\n",
      "HPU available: False, using: 0 HPUs\n",
      "LOCAL_RANK: 0 - CUDA_VISIBLE_DEVICES: [0]\n",
      "/home/etrizio@iit.local/Bin/miniconda3/envs/graph_mlcolvar_test/lib/python3.9/site-packages/lightning/pytorch/trainer/connectors/data_connector.py:441: The 'train_dataloader' does not have many workers which may be a bottleneck. Consider increasing the value of the `num_workers` argument` to `num_workers=63` in the `DataLoader` to improve performance.\n"
     ]
    },
    {
     "data": {
      "application/vnd.jupyter.widget-view+json": {
       "model_id": "b208643fbb814989813c3be7945691c8",
       "version_major": 2,
       "version_minor": 0
      },
      "text/plain": [
       "Training: |          | 0/? [00:00<?, ?it/s]"
      ]
     },
     "metadata": {},
     "output_type": "display_data"
    },
    {
     "name": "stderr",
     "output_type": "stream",
     "text": [
      "/home/etrizio@iit.local/Bin/miniconda3/envs/graph_mlcolvar_test/lib/python3.9/site-packages/lightning/pytorch/utilities/data.py:77: Trying to infer the `batch_size` from an ambiguous collection. The batch size we found is 2. To avoid any miscalculations, use `self.log(..., batch_size=batch_size)`.\n",
      "`Trainer.fit` stopped: `max_epochs=5` reached.\n"
     ]
    }
   ],
   "source": [
    "from lightning import Trainer\n",
    "\n",
    "trainer = Trainer(\n",
    "    logger=False,\n",
    "    enable_checkpointing=False,\n",
    "    accelerator='gpu',\n",
    "    max_epochs=5,\n",
    "    enable_model_summary=False, \n",
    "    limit_val_batches=0\n",
    ")\n",
    "\n",
    "trainer.fit(model_graph, datamodule_graph)"
   ]
  },
  {
   "cell_type": "code",
   "execution_count": 9,
   "metadata": {},
   "outputs": [
    {
     "data": {
      "text/plain": [
       "[{'data_list': DataBatch(edge_index=[2, 53760], shifts=[53760, 3], unit_shifts=[53760, 3], positions=[8960, 3], cell=[3840, 3], node_attrs=[8960, 2], graph_labels=[1280, 1], n_system=[1280, 1], weight=[1280], batch=[8960], ptr=[1281])}]"
      ]
     },
     "execution_count": 9,
     "metadata": {},
     "output_type": "execute_result"
    }
   ],
   "source": [
    "datamodule_ff.setup()\n",
    "\n",
    "a = datamodule_ff.train_dataloader()\n",
    "a.dataset['data']\n",
    "\n",
    "datamodule_graph.setup()\n",
    "a = datamodule_graph.train_dataloader()\n",
    "list(a)\n"
   ]
  },
  {
   "cell_type": "code",
   "execution_count": 10,
   "metadata": {},
   "outputs": [
    {
     "name": "stderr",
     "output_type": "stream",
     "text": [
      "GPU available: True (cuda), used: True\n",
      "TPU available: False, using: 0 TPU cores\n",
      "IPU available: False, using: 0 IPUs\n",
      "HPU available: False, using: 0 HPUs\n",
      "LOCAL_RANK: 0 - CUDA_VISIBLE_DEVICES: [0]\n"
     ]
    },
    {
     "data": {
      "application/vnd.jupyter.widget-view+json": {
       "model_id": "639e268194534f0d86dcaac85f8ba849",
       "version_major": 2,
       "version_minor": 0
      },
      "text/plain": [
       "Training: |          | 0/? [00:00<?, ?it/s]"
      ]
     },
     "metadata": {},
     "output_type": "display_data"
    },
    {
     "name": "stderr",
     "output_type": "stream",
     "text": [
      "`Trainer.fit` stopped: `max_epochs=5` reached.\n"
     ]
    }
   ],
   "source": [
    "trainer = Trainer(\n",
    "    logger=False,\n",
    "    enable_checkpointing=False,\n",
    "    accelerator='gpu',\n",
    "    max_epochs=5,\n",
    "    enable_model_summary=False, \n",
    "    limit_val_batches=0\n",
    ")\n",
    "\n",
    "trainer.fit(model_ff, datamodule_ff)"
   ]
  },
  {
   "cell_type": "code",
   "execution_count": 11,
   "metadata": {},
   "outputs": [],
   "source": [
    "loader = datamodule_graph\n",
    "test = next(iter(loader.train_dataloader()))['data_list']\n",
    "out_graph = model_graph(test)\n",
    "\n",
    "out_ff = model_ff(dataset_ff['data'])"
   ]
  },
  {
   "cell_type": "code",
   "execution_count": 12,
   "metadata": {},
   "outputs": [
    {
     "data": {
      "image/png": "[encoded data removed]",
      "text/plain": [
       "<Figure size 640x480 with 1 Axes>"
      ]
     },
     "metadata": {},
     "output_type": "display_data"
    }
   ],
   "source": [
    "import matplotlib.pyplot as plt\n",
    "\n",
    "plt.hist(out_graph.detach().squeeze())\n",
    "plt.hist(out_ff.detach().squeeze())\n",
    "plt.show()"
   ]
  },
  {
   "cell_type": "code",
   "execution_count": null,
   "metadata": {},
   "outputs": [],
   "source": [
    "DataBatch(edge_index=[2, 53760], shifts=[53760, 3], unit_shifts=[53760, 3], positions=[8960, 3], cell=[3840, 3], node_attrs=[8960, 2], graph_labels=[1280, 1], n_system=[1280, 1], weight=[1280], batch=[8960], ptr=[1281])\n",
    "DataBatch(edge_index=[2, 53760], shifts=[53760, 3], unit_shifts=[53760, 3], positions=[8960, 3], cell=[3840, 3], node_attrs=[8960, 2], graph_labels=[1280, 1], n_system=[1280, 1], weight=[1280], batch=[8960], ptr=[1281])\n",
    "DataBatch(edge_index=[2, 53760], shifts=[53760, 3], unit_shifts=[53760, 3], positions=[8960, 3], cell=[3840, 3], node_attrs=[8960, 2], graph_labels=[1280, 1], n_system=[1280, 1], weight=[1280], batch=[8960], ptr=[1281])\n",
    "DataBatch(edge_index=[2, 53760], shifts=[53760, 3], unit_shifts=[53760, 3], positions=[8960, 3], cell=[3840, 3], node_attrs=[8960, 2], graph_labels=[1280, 1], n_system=[1280, 1], weight=[1280], batch=[8960], ptr=[1281])"
   ]
  },
  {
   "cell_type": "code",
   "execution_count": null,
   "metadata": {},
   "outputs": [],
   "source": [
    "{'edge_index': tensor([[   0,    0,    0,  ..., 8959, 8959, 8959],\n",
    "        [   1,    4,    5,  ..., 8955, 8956, 8957]], device='cuda:0'), 'shifts': tensor([[0., 0., 0.],\n",
    "        [0., 0., 0.],\n",
    "        [0., 0., 0.],\n",
    "        ...,\n",
    "        [0., 0., 0.],\n",
    "        [0., 0., 0.],\n",
    "        [0., 0., 0.]], device='cuda:0'), 'unit_shifts': tensor([[0., 0., 0.],\n",
    "        [0., 0., 0.],\n",
    "        [0., 0., 0.],\n",
    "        ...,\n",
    "        [0., 0., 0.],\n",
    "        [0., 0., 0.],\n",
    "        [0., 0., 0.]], device='cuda:0'), 'positions': tensor([[-2.6081, -2.1008,  0.3736],\n",
    "        [-2.4060, -1.0921, -0.7459],\n",
    "        [-2.4521, -3.5211,  0.1885],\n",
    "        ...,\n",
    "        [-2.1364, -3.1386,  0.5862],\n",
    "        [-3.5091, -0.7473, -2.1322],\n",
    "        [-1.6128, -0.9524, -0.9889]], device='cuda:0'), 'cell': tensor([[100.,   0.,   0.],\n",
    "        [  0., 100.,   0.],\n",
    "        [  0.,   0., 100.],\n",
    "        ...,\n",
    "        [100.,   0.,   0.],\n",
    "        [  0., 100.,   0.],\n",
    "        [  0.,   0., 100.]], device='cuda:0'), 'node_attrs': tensor([[1., 0.],\n",
    "        [1., 0.],\n",
    "        [1., 0.],\n",
    "        ...,\n",
    "        [1., 0.],\n",
    "        [1., 0.],\n",
    "        [0., 1.]], device='cuda:0'), 'graph_labels': tensor([[0.],\n",
    "        [0.],\n",
    "        [0.],\n",
    "        ...,\n",
    "        [0.],\n",
    "        [0.],\n",
    "        [1.]], device='cuda:0'), 'n_system': tensor([[7.],\n",
    "        [7.],\n",
    "        [7.],\n",
    "        ...,\n",
    "        [7.],\n",
    "        [7.],\n",
    "        [7.]], device='cuda:0'), 'weight': tensor([1., 1., 1.,  ..., 1., 1., 1.], device='cuda:0'), 'batch': tensor([   0,    0,    0,  ..., 1279, 1279, 1279], device='cuda:0'), 'ptr': tensor([   0,    7,   14,  ..., 8946, 8953, 8960], device='cuda:0')}"
   ]
  }
 ],
 "metadata": {
  "kernelspec": {
   "display_name": "pytorch_geometric",
   "language": "python",
   "name": "python3"
  },
  "language_info": {
   "codemirror_mode": {
    "name": "ipython",
    "version": 3
   },
   "file_extension": ".py",
   "mimetype": "text/x-python",
   "name": "python",
   "nbconvert_exporter": "python",
   "pygments_lexer": "ipython3",
   "version": "3.9.18"
  }
 },
 "nbformat": 4,
 "nbformat_minor": 2
}
