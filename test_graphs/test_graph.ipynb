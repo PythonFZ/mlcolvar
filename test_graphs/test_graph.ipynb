{
 "cells": [
  {
   "cell_type": "code",
   "execution_count": 1,
   "metadata": {},
   "outputs": [
    {
     "name": "stdout",
     "output_type": "stream",
     "text": [
      "DictModule(dataset -> DictDataset( \"data_list\": 1600, \"z_table\": [6, 9], \"cutoff\": 8.0, \"data_type\": graphs ),\n",
      "\t\t     train_loader -> DictLoader(length=0.8, batch_size=1600, shuffle=1),\n",
      "\t\t     valid_loader -> DictLoader(length=0.2, batch_size=1600, shuffle=0))\n",
      "Class 0 dataframe shape:  (800, 24)\n",
      "Class 1 dataframe shape:  (800, 24)\n",
      "\n",
      " - Loaded dataframe (1600, 24): ['time', 'd1', 'd2', 'd3', 'd4', 'd5', 'd6', 'd7', 'd8', 'd9', 'd10', 'd11', 'd12', 'd13', 'd14', 'd15', 'd16', 'd17', 'd18', 'd19', 'd20', 'd21', 'walker', 'labels']\n",
      " - Descriptors (1600, 21): ['d1', 'd2', 'd3', 'd4', 'd5', 'd6', 'd7', 'd8', 'd9', 'd10', 'd11', 'd12', 'd13', 'd14', 'd15', 'd16', 'd17', 'd18', 'd19', 'd20', 'd21']\n"
     ]
    }
   ],
   "source": [
    "import torch\n",
    "from mlcolvar.data import DictModule\n",
    "from mlcolvar.utils.io import create_dataset_from_trajectories\n",
    "from mlcolvar.utils.io import create_dataset_from_files\n",
    "\n",
    "\n",
    "dataset_graph = create_dataset_from_trajectories(\n",
    "    trajectories=[\n",
    "        'data/r.dcd',\n",
    "        'data/p.dcd'\n",
    "    ],\n",
    "    top=['data/r.pdb', \n",
    "         'data/p.pdb'],\n",
    "    cutoff=8.0,  # Ang\n",
    "    create_labels=True,\n",
    "    system_selection='all and not type H',\n",
    "    show_progress=False\n",
    ")\n",
    "\n",
    "datamodule_graph = DictModule(dataset_graph, lengths=[0.8, 0.2], shuffle=[1, 0])\n",
    "print(datamodule_graph)\n",
    "\n",
    "\n",
    "dataset_ff = create_dataset_from_files(file_names=['data/colvar_r.dat',\n",
    "                                                   'data/colvar_p.dat'],\n",
    "                                                   filter_args={'regex': 'd'})\n",
    "\n",
    "datamodule_ff = DictModule(dataset_ff, lengths=[0.8, 0.2], shuffle=[1, 0])\n"
   ]
  },
  {
   "cell_type": "code",
   "execution_count": null,
   "metadata": {},
   "outputs": [],
   "source": [
    "from mlcolvar.core.nn.graph.schnet import SchNetModel\n",
    "\n",
    "gnn_model = SchNetModel(n_out=1,\n",
    "                        cutoff=dataset_graph.metadata['cutoff'],\n",
    "                        atomic_numbers=dataset_graph.metadata['z_table'],\n",
    "                        n_bases=6,\n",
    "                        n_layers=2,\n",
    "                        n_filters=32,\n",
    "                        n_hidden_channels=32\n",
    "                    )\n",
    "\n",
    "from mlcolvar.core.nn.graph.gvp import GVPModel\n",
    "\n",
    "gnn_model = GVPModel(n_out=1,\n",
    "                     cutoff=dataset_graph.metadata['cutoff'],\n",
    "                     atomic_numbers=dataset_graph.metadata['z_table'],\n",
    "                     drop_rate=0.1)\n"
   ]
  },
  {
   "cell_type": "code",
   "execution_count": 14,
   "metadata": {},
   "outputs": [
    {
     "name": "stderr",
     "output_type": "stream",
     "text": [
      "/home/etrizio@iit.local/Bin/miniconda3/envs/graph_mlcolvar_test/lib/python3.9/site-packages/lightning/pytorch/utilities/parsing.py:198: Attribute 'model' is an instance of `nn.Module` and is already saved during checkpointing. It is recommended to ignore them using `self.save_hyperparameters(ignore=['model'])`.\n"
     ]
    }
   ],
   "source": [
    "from mlcolvar.cvs.supervised.deeptda import DeepTDA\n",
    "\n",
    "model_graph = DeepTDA(n_states=2,\n",
    "                        n_cvs=1,\n",
    "                        target_centers=[-7, 7],\n",
    "                        target_sigmas=[0.2, 0.2],\n",
    "                        model=gnn_model)\n",
    "\n",
    "from mlcolvar.core.nn import FeedForward\n",
    "\n",
    "ff_model = FeedForward(layers=[21, 15, 10, 1])\n",
    "model_ff = DeepTDA(n_states=2,\n",
    "                    n_cvs=1,\n",
    "                    target_centers=[-7, 7],\n",
    "                    target_sigmas=[0.2, 0.2],\n",
    "                    model=ff_model)"
   ]
  },
  {
   "cell_type": "code",
   "execution_count": null,
   "metadata": {},
   "outputs": [],
   "source": [
    "from lightning import Trainer\n",
    "\n",
    "trainer = Trainer(\n",
    "    logger=False,\n",
    "    enable_checkpointing=False,\n",
    "    accelerator='cuda',\n",
    "    max_epochs=200,\n",
    "    enable_model_summary=False\n",
    ")\n",
    "\n",
    "trainer.fit(model_graph, datamodule_graph)"
   ]
  },
  {
   "cell_type": "code",
   "execution_count": null,
   "metadata": {},
   "outputs": [
    {
     "data": {
      "text/plain": [
       "tensor([0, 0, 0, 0, 0, 0, 0])"
      ]
     },
     "execution_count": 16,
     "metadata": {},
     "output_type": "execute_result"
    }
   ],
   "source": [
    "datamodule_graph.setup()\n",
    "a = datamodule_graph.train_dataloader()\n",
    "test = next(iter(a))\n",
    "inp = test['data_list']"
   ]
  },
  {
   "cell_type": "code",
   "execution_count": null,
   "metadata": {},
   "outputs": [
    {
     "data": {
      "text/plain": [
       "Data(edge_index=[2, 42], shifts=[42, 3], unit_shifts=[42, 3], positions=[7, 3], cell=[3, 3], node_attrs=[7, 2], graph_labels=[1, 1], n_system=[1, 1], weight=[1], batch=[7])"
      ]
     },
     "execution_count": 17,
     "metadata": {},
     "output_type": "execute_result"
    }
   ],
   "source": [
    "xxx = inp.get_example(0)\n",
    "xxx.batch = torch.zeros(len(xxx['positions']), dtype = torch.long)\n",
    "xxx"
   ]
  },
  {
   "cell_type": "code",
   "execution_count": 18,
   "metadata": {},
   "outputs": [],
   "source": [
    "model_graph.eval()\n",
    "traced_model = model_graph.to_torchscript('test.pt', method='trace')"
   ]
  },
  {
   "cell_type": "code",
   "execution_count": null,
   "metadata": {},
   "outputs": [
    {
     "name": "stdout",
     "output_type": "stream",
     "text": [
      "tensor([[1.8528]], grad_fn=<DivBackward0>)\n",
      "tensor([[-2.3465]], grad_fn=<DivBackward0>)\n",
      "tensor([[1.8528]], grad_fn=<DivBackward0>)\n",
      "tensor([[-2.3465]], grad_fn=<DivBackward0>)\n",
      "tensor([[1.8528]], grad_fn=<DivBackward0>)\n",
      "tensor([[-2.3465]], grad_fn=<DivBackward0>)\n"
     ]
    }
   ],
   "source": [
    "model_graph.eval()\n",
    "\n",
    "test = inp.get_example(100)\n",
    "test.batch = torch.zeros(len(test['positions']), dtype = torch.long)\n",
    "\n",
    "print(model_graph(xxx))\n",
    "print(model_graph(test))\n",
    "\n",
    "print(traced_model(xxx))\n",
    "print(traced_model(test))\n",
    "\n",
    "\n",
    "loaded_model = torch.jit.load('test.pt')\n",
    "\n",
    "print(loaded_model(xxx))\n",
    "print(loaded_model(test))\n"
   ]
  },
  {
   "cell_type": "code",
   "execution_count": null,
   "metadata": {},
   "outputs": [],
   "source": [
    "trainer = Trainer(\n",
    "    logger=False,\n",
    "    enable_checkpointing=True,\n",
    "    accelerator='cpu',\n",
    "    max_epochs=5,\n",
    "    enable_model_summary=False\n",
    ")\n",
    "\n",
    "trainer.fit(model_ff, datamodule_ff)"
   ]
  },
  {
   "cell_type": "code",
   "execution_count": 83,
   "metadata": {},
   "outputs": [],
   "source": [
    "loader = datamodule_graph\n",
    "test = next(iter(loader.train_dataloader()))['data_list']\n",
    "out_graph = model_graph(test)\n",
    "\n",
    "out_ff = model_ff(dataset_ff['data'])"
   ]
  },
  {
   "cell_type": "code",
   "execution_count": 86,
   "metadata": {},
   "outputs": [
    {
     "data": {
      "image/png": "[encoded data removed]",
      "text/plain": [
       "<Figure size 640x480 with 1 Axes>"
      ]
     },
     "metadata": {},
     "output_type": "display_data"
    }
   ],
   "source": [
    "import matplotlib.pyplot as plt\n",
    "\n",
    "plt.hist(out_graph.detach().squeeze(), 100)\n",
    "plt.hist(out_ff.detach().squeeze())\n",
    "plt.show()"
   ]
  }
 ],
 "metadata": {
  "kernelspec": {
   "display_name": "graph_mlcolvar_test",
   "language": "python",
   "name": "python3"
  },
  "language_info": {
   "codemirror_mode": {
    "name": "ipython",
    "version": 3
   },
   "file_extension": ".py",
   "mimetype": "text/x-python",
   "name": "python",
   "nbconvert_exporter": "python",
   "pygments_lexer": "ipython3",
   "version": "3.9.18"
  }
 },
 "nbformat": 4,
 "nbformat_minor": 2
}
